{
 "cells": [
  {
   "cell_type": "code",
   "execution_count": 1,
   "metadata": {},
   "outputs": [],
   "source": [
    "import numpy as np\n",
    "import pandas as pd\n",
    "import seaborn as sns\n",
    "import matplotlib.pyplot as plt\n",
    "import plotly.express as px\n",
    "import plotly.graph_objects as go"
   ]
  },
  {
   "cell_type": "code",
   "execution_count": 2,
   "metadata": {},
   "outputs": [
    {
     "data": {
      "text/html": [
       "<div>\n",
       "<style scoped>\n",
       "    .dataframe tbody tr th:only-of-type {\n",
       "        vertical-align: middle;\n",
       "    }\n",
       "\n",
       "    .dataframe tbody tr th {\n",
       "        vertical-align: top;\n",
       "    }\n",
       "\n",
       "    .dataframe thead th {\n",
       "        text-align: right;\n",
       "    }\n",
       "</style>\n",
       "<table border=\"1\" class=\"dataframe\">\n",
       "  <thead>\n",
       "    <tr style=\"text-align: right;\">\n",
       "      <th></th>\n",
       "      <th>Position</th>\n",
       "      <th>Track Name</th>\n",
       "      <th>Artist</th>\n",
       "      <th>Streams</th>\n",
       "      <th>Date</th>\n",
       "      <th>Region</th>\n",
       "    </tr>\n",
       "  </thead>\n",
       "  <tbody>\n",
       "    <tr>\n",
       "      <th>0</th>\n",
       "      <td>1</td>\n",
       "      <td>Reggaetón Lento (Bailemos)</td>\n",
       "      <td>CNCO</td>\n",
       "      <td>19272</td>\n",
       "      <td>2017-01-01</td>\n",
       "      <td>ec</td>\n",
       "    </tr>\n",
       "    <tr>\n",
       "      <th>1</th>\n",
       "      <td>2</td>\n",
       "      <td>Chantaje</td>\n",
       "      <td>Shakira</td>\n",
       "      <td>19270</td>\n",
       "      <td>2017-01-01</td>\n",
       "      <td>ec</td>\n",
       "    </tr>\n",
       "    <tr>\n",
       "      <th>2</th>\n",
       "      <td>3</td>\n",
       "      <td>Otra Vez (feat. J Balvin)</td>\n",
       "      <td>Zion &amp; Lennox</td>\n",
       "      <td>15761</td>\n",
       "      <td>2017-01-01</td>\n",
       "      <td>ec</td>\n",
       "    </tr>\n",
       "    <tr>\n",
       "      <th>3</th>\n",
       "      <td>4</td>\n",
       "      <td>Vente Pa' Ca</td>\n",
       "      <td>Ricky Martin</td>\n",
       "      <td>14954</td>\n",
       "      <td>2017-01-01</td>\n",
       "      <td>ec</td>\n",
       "    </tr>\n",
       "    <tr>\n",
       "      <th>4</th>\n",
       "      <td>5</td>\n",
       "      <td>Safari</td>\n",
       "      <td>J Balvin</td>\n",
       "      <td>14269</td>\n",
       "      <td>2017-01-01</td>\n",
       "      <td>ec</td>\n",
       "    </tr>\n",
       "    <tr>\n",
       "      <th>...</th>\n",
       "      <td>...</td>\n",
       "      <td>...</td>\n",
       "      <td>...</td>\n",
       "      <td>...</td>\n",
       "      <td>...</td>\n",
       "      <td>...</td>\n",
       "    </tr>\n",
       "    <tr>\n",
       "      <th>3441192</th>\n",
       "      <td>196</td>\n",
       "      <td>More Than You Know</td>\n",
       "      <td>Axwell /\\ Ingrosso</td>\n",
       "      <td>2126</td>\n",
       "      <td>2018-01-09</td>\n",
       "      <td>hk</td>\n",
       "    </tr>\n",
       "    <tr>\n",
       "      <th>3441193</th>\n",
       "      <td>197</td>\n",
       "      <td>Issues</td>\n",
       "      <td>Julia Michaels</td>\n",
       "      <td>2117</td>\n",
       "      <td>2018-01-09</td>\n",
       "      <td>hk</td>\n",
       "    </tr>\n",
       "    <tr>\n",
       "      <th>3441194</th>\n",
       "      <td>198</td>\n",
       "      <td>Tuo Fei Lun</td>\n",
       "      <td>Eason Chan</td>\n",
       "      <td>2112</td>\n",
       "      <td>2018-01-09</td>\n",
       "      <td>hk</td>\n",
       "    </tr>\n",
       "    <tr>\n",
       "      <th>3441195</th>\n",
       "      <td>199</td>\n",
       "      <td>面具</td>\n",
       "      <td>Alfred Hui</td>\n",
       "      <td>2102</td>\n",
       "      <td>2018-01-09</td>\n",
       "      <td>hk</td>\n",
       "    </tr>\n",
       "    <tr>\n",
       "      <th>3441196</th>\n",
       "      <td>200</td>\n",
       "      <td>Let Her Go</td>\n",
       "      <td>Passenger</td>\n",
       "      <td>2088</td>\n",
       "      <td>2018-01-09</td>\n",
       "      <td>hk</td>\n",
       "    </tr>\n",
       "  </tbody>\n",
       "</table>\n",
       "<p>3441197 rows × 6 columns</p>\n",
       "</div>"
      ],
      "text/plain": [
       "         Position                  Track Name              Artist  Streams  \\\n",
       "0               1  Reggaetón Lento (Bailemos)                CNCO    19272   \n",
       "1               2                    Chantaje             Shakira    19270   \n",
       "2               3   Otra Vez (feat. J Balvin)       Zion & Lennox    15761   \n",
       "3               4                Vente Pa' Ca        Ricky Martin    14954   \n",
       "4               5                      Safari            J Balvin    14269   \n",
       "...           ...                         ...                 ...      ...   \n",
       "3441192       196          More Than You Know  Axwell /\\ Ingrosso     2126   \n",
       "3441193       197                      Issues      Julia Michaels     2117   \n",
       "3441194       198                 Tuo Fei Lun          Eason Chan     2112   \n",
       "3441195       199                          面具          Alfred Hui     2102   \n",
       "3441196       200                  Let Her Go           Passenger     2088   \n",
       "\n",
       "               Date Region  \n",
       "0        2017-01-01     ec  \n",
       "1        2017-01-01     ec  \n",
       "2        2017-01-01     ec  \n",
       "3        2017-01-01     ec  \n",
       "4        2017-01-01     ec  \n",
       "...             ...    ...  \n",
       "3441192  2018-01-09     hk  \n",
       "3441193  2018-01-09     hk  \n",
       "3441194  2018-01-09     hk  \n",
       "3441195  2018-01-09     hk  \n",
       "3441196  2018-01-09     hk  \n",
       "\n",
       "[3441197 rows x 6 columns]"
      ]
     },
     "execution_count": 2,
     "metadata": {},
     "output_type": "execute_result"
    }
   ],
   "source": [
    "df = pd.read_csv('data.csv')\n",
    "df.drop('URL', axis='columns', inplace=True)\n",
    "df"
   ]
  },
  {
   "attachments": {},
   "cell_type": "markdown",
   "metadata": {},
   "source": [
    "# **Biểu đồ Choropleth Maps** "
   ]
  },
  {
   "attachments": {},
   "cell_type": "markdown",
   "metadata": {},
   "source": [
    "### Mục tiêu: \n",
    "- Trực quan lượng streams theo từng quốc gia với biểu đồ thế giới.\n",
    "\n",
    "### Tiền xử lý dữ liệu: \n",
    "- Tính tổng lượng streams theo từng quốc gia.\n",
    "- Lược bỏ dòng lượng streams trên toàn cầu.\n",
    "### Các trường dữ liệu tương tác: \n",
    "- Region, Streams, Country Name, Alpha-3 code. \n",
    "  \n",
    "Trong đó Country Name và Alpha-3 code lần lượt là tên đầy đủ của quốc gia và mã alpha-3 của quốc gia ứng với mã region, được thêm vào theo dữ liệu của Wikipedia. Mục đích thêm vào để phục vụ cho việc truyền thuộc tính vào hàm trực quan Choropleth Maps.\n",
    "\n",
    "Link: https://www.kaggle.com/datasets/juanumusic/countries-iso-codes\n",
    "\n",
    "### Mục tiêu khi chọn Choropleth Maps để trực quan:\n",
    "- Biểu đồ sinh động, bắt mắt và vẫn đảm bảo rõ ràng cho người xem thu thập được các thông tin hữu ích.\n",
    "- Từ việc trực quan, ta sẽ biết xu hướng lượt streams của các quốc gia hay những vùng châu lục.\n",
    "\n",
    "### Màu sắc dùng để trực quan: \n",
    "- Xanh lá kết hợp phương pháp saturation.\n",
    "- Giải thích: Việc sử dụng màu sắc như thế này sẽ tạo ra sự đơn giản, giúp người xem dễ quan sát, so sánh mức độ lượt streams ở từng quốc gia. Một điều nữa bảng màu này có độ tương phản với màu xanh dương, màu mặc định của biểu đồ Choropleth Maps giúp chúng ta phân biệt dễ dàng quốc gia nằm/không nằm trong top lượt streams.\n",
    "\n",
    "### Các kỹ thuật sử dụng thêm:\n",
    "- Reduce: Lược bỏ đi dòng tính tổng lượng streams của GLOBAL."
   ]
  },
  {
   "attachments": {},
   "cell_type": "markdown",
   "metadata": {},
   "source": [
    "## Tính tổng lượng streams theo từng quốc gia"
   ]
  },
  {
   "cell_type": "code",
   "execution_count": 3,
   "metadata": {},
   "outputs": [],
   "source": [
    "# Tính tổng số lượng người nghe theo từng quốc gia\n",
    "grouped_by_region_df = df.groupby(\"Region\")[\"Streams\"].sum().reset_index()\n",
    "grouped_by_region_df[\"Region\"] = grouped_by_region_df[\"Region\"].str.upper()"
   ]
  },
  {
   "cell_type": "code",
   "execution_count": 4,
   "metadata": {},
   "outputs": [],
   "source": [
    "df_countries = pd.read_csv(\"wikipedia-iso-country-codes.csv\")\n",
    "# Gộp dữ liệu dựa trên cột chung là mã quốc gia viết tắt\n",
    "grouped_by_region_df = pd.merge(grouped_by_region_df, df_countries, left_on=\"Region\", right_on=\"Alpha-2 code\", how=\"left\")"
   ]
  },
  {
   "cell_type": "code",
   "execution_count": 5,
   "metadata": {},
   "outputs": [],
   "source": [
    "grouped_by_region_df = grouped_by_region_df.drop('Alpha-2 code', axis = 1)"
   ]
  },
  {
   "cell_type": "code",
   "execution_count": 6,
   "metadata": {},
   "outputs": [],
   "source": [
    "grouped_by_region_df.rename(columns = {'English short name lower case':'Country name'}, inplace = True)"
   ]
  },
  {
   "cell_type": "code",
   "execution_count": 7,
   "metadata": {},
   "outputs": [],
   "source": [
    "grouped_by_region_df.drop(21, inplace=True)"
   ]
  },
  {
   "cell_type": "code",
   "execution_count": 8,
   "metadata": {},
   "outputs": [
    {
     "data": {
      "text/html": [
       "<div>\n",
       "<style scoped>\n",
       "    .dataframe tbody tr th:only-of-type {\n",
       "        vertical-align: middle;\n",
       "    }\n",
       "\n",
       "    .dataframe tbody tr th {\n",
       "        vertical-align: top;\n",
       "    }\n",
       "\n",
       "    .dataframe thead th {\n",
       "        text-align: right;\n",
       "    }\n",
       "</style>\n",
       "<table border=\"1\" class=\"dataframe\">\n",
       "  <thead>\n",
       "    <tr style=\"text-align: right;\">\n",
       "      <th></th>\n",
       "      <th>Region</th>\n",
       "      <th>Streams</th>\n",
       "      <th>Country name</th>\n",
       "      <th>Alpha-3 code</th>\n",
       "    </tr>\n",
       "  </thead>\n",
       "  <tbody>\n",
       "    <tr>\n",
       "      <th>0</th>\n",
       "      <td>AR</td>\n",
       "      <td>2776971684</td>\n",
       "      <td>Argentina</td>\n",
       "      <td>ARG</td>\n",
       "    </tr>\n",
       "    <tr>\n",
       "      <th>1</th>\n",
       "      <td>AT</td>\n",
       "      <td>344322232</td>\n",
       "      <td>Austria</td>\n",
       "      <td>AUT</td>\n",
       "    </tr>\n",
       "    <tr>\n",
       "      <th>2</th>\n",
       "      <td>AU</td>\n",
       "      <td>3372128479</td>\n",
       "      <td>Australia</td>\n",
       "      <td>AUS</td>\n",
       "    </tr>\n",
       "    <tr>\n",
       "      <th>3</th>\n",
       "      <td>BE</td>\n",
       "      <td>556799739</td>\n",
       "      <td>Belgium</td>\n",
       "      <td>BEL</td>\n",
       "    </tr>\n",
       "    <tr>\n",
       "      <th>4</th>\n",
       "      <td>BO</td>\n",
       "      <td>97248182</td>\n",
       "      <td>Bolivia</td>\n",
       "      <td>BOL</td>\n",
       "    </tr>\n",
       "    <tr>\n",
       "      <th>5</th>\n",
       "      <td>BR</td>\n",
       "      <td>6890194505</td>\n",
       "      <td>Brazil</td>\n",
       "      <td>BRA</td>\n",
       "    </tr>\n",
       "    <tr>\n",
       "      <th>6</th>\n",
       "      <td>CA</td>\n",
       "      <td>3201208648</td>\n",
       "      <td>Canada</td>\n",
       "      <td>CAN</td>\n",
       "    </tr>\n",
       "    <tr>\n",
       "      <th>7</th>\n",
       "      <td>CH</td>\n",
       "      <td>487115409</td>\n",
       "      <td>Switzerland</td>\n",
       "      <td>CHE</td>\n",
       "    </tr>\n",
       "    <tr>\n",
       "      <th>8</th>\n",
       "      <td>CL</td>\n",
       "      <td>2191334779</td>\n",
       "      <td>Chile</td>\n",
       "      <td>CHL</td>\n",
       "    </tr>\n",
       "    <tr>\n",
       "      <th>9</th>\n",
       "      <td>CO</td>\n",
       "      <td>834076562</td>\n",
       "      <td>Colombia</td>\n",
       "      <td>COL</td>\n",
       "    </tr>\n",
       "    <tr>\n",
       "      <th>10</th>\n",
       "      <td>CR</td>\n",
       "      <td>362874962</td>\n",
       "      <td>Costa Rica</td>\n",
       "      <td>CRI</td>\n",
       "    </tr>\n",
       "    <tr>\n",
       "      <th>11</th>\n",
       "      <td>CZ</td>\n",
       "      <td>208602150</td>\n",
       "      <td>Czech Republic</td>\n",
       "      <td>CZE</td>\n",
       "    </tr>\n",
       "    <tr>\n",
       "      <th>12</th>\n",
       "      <td>DE</td>\n",
       "      <td>6072757512</td>\n",
       "      <td>Germany</td>\n",
       "      <td>DEU</td>\n",
       "    </tr>\n",
       "    <tr>\n",
       "      <th>13</th>\n",
       "      <td>DK</td>\n",
       "      <td>1509648808</td>\n",
       "      <td>Denmark</td>\n",
       "      <td>DNK</td>\n",
       "    </tr>\n",
       "    <tr>\n",
       "      <th>14</th>\n",
       "      <td>DO</td>\n",
       "      <td>154057176</td>\n",
       "      <td>Dominican Republic</td>\n",
       "      <td>DOM</td>\n",
       "    </tr>\n",
       "    <tr>\n",
       "      <th>15</th>\n",
       "      <td>EC</td>\n",
       "      <td>318441639</td>\n",
       "      <td>Ecuador</td>\n",
       "      <td>ECU</td>\n",
       "    </tr>\n",
       "    <tr>\n",
       "      <th>16</th>\n",
       "      <td>EE</td>\n",
       "      <td>21653223</td>\n",
       "      <td>Estonia</td>\n",
       "      <td>EST</td>\n",
       "    </tr>\n",
       "    <tr>\n",
       "      <th>17</th>\n",
       "      <td>ES</td>\n",
       "      <td>3754247012</td>\n",
       "      <td>Spain</td>\n",
       "      <td>ESP</td>\n",
       "    </tr>\n",
       "    <tr>\n",
       "      <th>18</th>\n",
       "      <td>FI</td>\n",
       "      <td>1246077272</td>\n",
       "      <td>Finland</td>\n",
       "      <td>FIN</td>\n",
       "    </tr>\n",
       "    <tr>\n",
       "      <th>19</th>\n",
       "      <td>FR</td>\n",
       "      <td>3146285237</td>\n",
       "      <td>France</td>\n",
       "      <td>FRA</td>\n",
       "    </tr>\n",
       "    <tr>\n",
       "      <th>20</th>\n",
       "      <td>GB</td>\n",
       "      <td>7185860296</td>\n",
       "      <td>United Kingdom</td>\n",
       "      <td>GBR</td>\n",
       "    </tr>\n",
       "    <tr>\n",
       "      <th>22</th>\n",
       "      <td>GR</td>\n",
       "      <td>58780418</td>\n",
       "      <td>Greece</td>\n",
       "      <td>GRC</td>\n",
       "    </tr>\n",
       "    <tr>\n",
       "      <th>23</th>\n",
       "      <td>GT</td>\n",
       "      <td>176974407</td>\n",
       "      <td>Guatemala</td>\n",
       "      <td>GTM</td>\n",
       "    </tr>\n",
       "    <tr>\n",
       "      <th>24</th>\n",
       "      <td>HK</td>\n",
       "      <td>295800351</td>\n",
       "      <td>Hong Kong</td>\n",
       "      <td>HKG</td>\n",
       "    </tr>\n",
       "    <tr>\n",
       "      <th>25</th>\n",
       "      <td>HN</td>\n",
       "      <td>91375818</td>\n",
       "      <td>Honduras</td>\n",
       "      <td>HND</td>\n",
       "    </tr>\n",
       "    <tr>\n",
       "      <th>26</th>\n",
       "      <td>HU</td>\n",
       "      <td>152772228</td>\n",
       "      <td>Hungary</td>\n",
       "      <td>HUN</td>\n",
       "    </tr>\n",
       "    <tr>\n",
       "      <th>27</th>\n",
       "      <td>ID</td>\n",
       "      <td>1287300250</td>\n",
       "      <td>Indonesia</td>\n",
       "      <td>IDN</td>\n",
       "    </tr>\n",
       "    <tr>\n",
       "      <th>28</th>\n",
       "      <td>IE</td>\n",
       "      <td>648164942</td>\n",
       "      <td>Ireland</td>\n",
       "      <td>IRL</td>\n",
       "    </tr>\n",
       "    <tr>\n",
       "      <th>29</th>\n",
       "      <td>IS</td>\n",
       "      <td>80100254</td>\n",
       "      <td>Iceland</td>\n",
       "      <td>ISL</td>\n",
       "    </tr>\n",
       "    <tr>\n",
       "      <th>30</th>\n",
       "      <td>IT</td>\n",
       "      <td>2387015412</td>\n",
       "      <td>Italy</td>\n",
       "      <td>ITA</td>\n",
       "    </tr>\n",
       "    <tr>\n",
       "      <th>31</th>\n",
       "      <td>JP</td>\n",
       "      <td>315926822</td>\n",
       "      <td>Japan</td>\n",
       "      <td>JPN</td>\n",
       "    </tr>\n",
       "    <tr>\n",
       "      <th>32</th>\n",
       "      <td>LT</td>\n",
       "      <td>30363701</td>\n",
       "      <td>Lithuania</td>\n",
       "      <td>LTU</td>\n",
       "    </tr>\n",
       "    <tr>\n",
       "      <th>33</th>\n",
       "      <td>LU</td>\n",
       "      <td>6018470</td>\n",
       "      <td>Luxembourg</td>\n",
       "      <td>LUX</td>\n",
       "    </tr>\n",
       "    <tr>\n",
       "      <th>34</th>\n",
       "      <td>LV</td>\n",
       "      <td>33654223</td>\n",
       "      <td>Latvia</td>\n",
       "      <td>LVA</td>\n",
       "    </tr>\n",
       "    <tr>\n",
       "      <th>35</th>\n",
       "      <td>MX</td>\n",
       "      <td>6344670992</td>\n",
       "      <td>Mexico</td>\n",
       "      <td>MEX</td>\n",
       "    </tr>\n",
       "    <tr>\n",
       "      <th>36</th>\n",
       "      <td>MY</td>\n",
       "      <td>652284423</td>\n",
       "      <td>Malaysia</td>\n",
       "      <td>MYS</td>\n",
       "    </tr>\n",
       "    <tr>\n",
       "      <th>37</th>\n",
       "      <td>NL</td>\n",
       "      <td>3467630881</td>\n",
       "      <td>Netherlands</td>\n",
       "      <td>NLD</td>\n",
       "    </tr>\n",
       "    <tr>\n",
       "      <th>38</th>\n",
       "      <td>NO</td>\n",
       "      <td>2011024798</td>\n",
       "      <td>Norway</td>\n",
       "      <td>NOR</td>\n",
       "    </tr>\n",
       "    <tr>\n",
       "      <th>39</th>\n",
       "      <td>NZ</td>\n",
       "      <td>813211531</td>\n",
       "      <td>New Zealand</td>\n",
       "      <td>NZL</td>\n",
       "    </tr>\n",
       "    <tr>\n",
       "      <th>40</th>\n",
       "      <td>PA</td>\n",
       "      <td>131475020</td>\n",
       "      <td>Panama</td>\n",
       "      <td>PAN</td>\n",
       "    </tr>\n",
       "    <tr>\n",
       "      <th>41</th>\n",
       "      <td>PE</td>\n",
       "      <td>1079068853</td>\n",
       "      <td>Peru</td>\n",
       "      <td>PER</td>\n",
       "    </tr>\n",
       "    <tr>\n",
       "      <th>42</th>\n",
       "      <td>PH</td>\n",
       "      <td>3320833608</td>\n",
       "      <td>Philippines</td>\n",
       "      <td>PHL</td>\n",
       "    </tr>\n",
       "    <tr>\n",
       "      <th>43</th>\n",
       "      <td>PL</td>\n",
       "      <td>785350179</td>\n",
       "      <td>Poland</td>\n",
       "      <td>POL</td>\n",
       "    </tr>\n",
       "    <tr>\n",
       "      <th>44</th>\n",
       "      <td>PT</td>\n",
       "      <td>441238052</td>\n",
       "      <td>Portugal</td>\n",
       "      <td>PRT</td>\n",
       "    </tr>\n",
       "    <tr>\n",
       "      <th>45</th>\n",
       "      <td>PY</td>\n",
       "      <td>167178465</td>\n",
       "      <td>Paraguay</td>\n",
       "      <td>PRY</td>\n",
       "    </tr>\n",
       "    <tr>\n",
       "      <th>46</th>\n",
       "      <td>SE</td>\n",
       "      <td>3367838798</td>\n",
       "      <td>Sweden</td>\n",
       "      <td>SWE</td>\n",
       "    </tr>\n",
       "    <tr>\n",
       "      <th>47</th>\n",
       "      <td>SG</td>\n",
       "      <td>763807172</td>\n",
       "      <td>Singapore</td>\n",
       "      <td>SGP</td>\n",
       "    </tr>\n",
       "    <tr>\n",
       "      <th>48</th>\n",
       "      <td>SK</td>\n",
       "      <td>42731609</td>\n",
       "      <td>Slovakia</td>\n",
       "      <td>SVK</td>\n",
       "    </tr>\n",
       "    <tr>\n",
       "      <th>49</th>\n",
       "      <td>SV</td>\n",
       "      <td>80421329</td>\n",
       "      <td>El Salvador</td>\n",
       "      <td>SLV</td>\n",
       "    </tr>\n",
       "    <tr>\n",
       "      <th>50</th>\n",
       "      <td>TR</td>\n",
       "      <td>927101328</td>\n",
       "      <td>Turkey</td>\n",
       "      <td>TUR</td>\n",
       "    </tr>\n",
       "    <tr>\n",
       "      <th>51</th>\n",
       "      <td>TW</td>\n",
       "      <td>445881508</td>\n",
       "      <td>Taiwan</td>\n",
       "      <td>TWN</td>\n",
       "    </tr>\n",
       "    <tr>\n",
       "      <th>52</th>\n",
       "      <td>US</td>\n",
       "      <td>26384680151</td>\n",
       "      <td>United States Of America</td>\n",
       "      <td>USA</td>\n",
       "    </tr>\n",
       "    <tr>\n",
       "      <th>53</th>\n",
       "      <td>UY</td>\n",
       "      <td>194949960</td>\n",
       "      <td>Uruguay</td>\n",
       "      <td>URY</td>\n",
       "    </tr>\n",
       "  </tbody>\n",
       "</table>\n",
       "</div>"
      ],
      "text/plain": [
       "   Region      Streams              Country name Alpha-3 code\n",
       "0      AR   2776971684                 Argentina          ARG\n",
       "1      AT    344322232                   Austria          AUT\n",
       "2      AU   3372128479                 Australia          AUS\n",
       "3      BE    556799739                   Belgium          BEL\n",
       "4      BO     97248182                   Bolivia          BOL\n",
       "5      BR   6890194505                    Brazil          BRA\n",
       "6      CA   3201208648                    Canada          CAN\n",
       "7      CH    487115409               Switzerland          CHE\n",
       "8      CL   2191334779                     Chile          CHL\n",
       "9      CO    834076562                  Colombia          COL\n",
       "10     CR    362874962                Costa Rica          CRI\n",
       "11     CZ    208602150            Czech Republic          CZE\n",
       "12     DE   6072757512                   Germany          DEU\n",
       "13     DK   1509648808                   Denmark          DNK\n",
       "14     DO    154057176        Dominican Republic          DOM\n",
       "15     EC    318441639                   Ecuador          ECU\n",
       "16     EE     21653223                   Estonia          EST\n",
       "17     ES   3754247012                     Spain          ESP\n",
       "18     FI   1246077272                   Finland          FIN\n",
       "19     FR   3146285237                    France          FRA\n",
       "20     GB   7185860296            United Kingdom          GBR\n",
       "22     GR     58780418                    Greece          GRC\n",
       "23     GT    176974407                 Guatemala          GTM\n",
       "24     HK    295800351                 Hong Kong          HKG\n",
       "25     HN     91375818                  Honduras          HND\n",
       "26     HU    152772228                   Hungary          HUN\n",
       "27     ID   1287300250                 Indonesia          IDN\n",
       "28     IE    648164942                   Ireland          IRL\n",
       "29     IS     80100254                   Iceland          ISL\n",
       "30     IT   2387015412                     Italy          ITA\n",
       "31     JP    315926822                     Japan          JPN\n",
       "32     LT     30363701                 Lithuania          LTU\n",
       "33     LU      6018470                Luxembourg          LUX\n",
       "34     LV     33654223                    Latvia          LVA\n",
       "35     MX   6344670992                    Mexico          MEX\n",
       "36     MY    652284423                  Malaysia          MYS\n",
       "37     NL   3467630881               Netherlands          NLD\n",
       "38     NO   2011024798                    Norway          NOR\n",
       "39     NZ    813211531               New Zealand          NZL\n",
       "40     PA    131475020                    Panama          PAN\n",
       "41     PE   1079068853                      Peru          PER\n",
       "42     PH   3320833608               Philippines          PHL\n",
       "43     PL    785350179                    Poland          POL\n",
       "44     PT    441238052                  Portugal          PRT\n",
       "45     PY    167178465                  Paraguay          PRY\n",
       "46     SE   3367838798                    Sweden          SWE\n",
       "47     SG    763807172                 Singapore          SGP\n",
       "48     SK     42731609                  Slovakia          SVK\n",
       "49     SV     80421329               El Salvador          SLV\n",
       "50     TR    927101328                    Turkey          TUR\n",
       "51     TW    445881508                    Taiwan          TWN\n",
       "52     US  26384680151  United States Of America          USA\n",
       "53     UY    194949960                   Uruguay          URY"
      ]
     },
     "execution_count": 8,
     "metadata": {},
     "output_type": "execute_result"
    }
   ],
   "source": [
    "grouped_by_region_df"
   ]
  },
  {
   "attachments": {},
   "cell_type": "markdown",
   "metadata": {},
   "source": [
    "## Vẽ biểu đồ Choropleth Maps"
   ]
  },
  {
   "cell_type": "code",
   "execution_count": 9,
   "metadata": {},
   "outputs": [
    {
     "data": {
      "application/vnd.plotly.v1+json": {
       "config": {
        "plotlyServerURL": "https://plot.ly"
       },
       "data": [
        {
         "coloraxis": "coloraxis",
         "geo": "geo",
         "hovertemplate": "<b>%{hovertext}</b><br><br>Alpha-3 code=%{location}<br>Streams=%{z}<extra></extra>",
         "hovertext": [
          "Argentina",
          "Austria",
          "Australia",
          "Belgium",
          "Bolivia",
          "Brazil",
          "Canada",
          "Switzerland",
          "Chile",
          "Colombia",
          "Costa Rica",
          "Czech Republic",
          "Germany",
          "Denmark",
          "Dominican Republic",
          "Ecuador",
          "Estonia",
          "Spain",
          "Finland",
          "France",
          "United Kingdom",
          "Greece",
          "Guatemala",
          "Hong Kong",
          "Honduras",
          "Hungary",
          "Indonesia",
          "Ireland",
          "Iceland",
          "Italy",
          "Japan",
          "Lithuania",
          "Luxembourg",
          "Latvia",
          "Mexico",
          "Malaysia",
          "Netherlands",
          "Norway",
          "New Zealand",
          "Panama",
          "Peru",
          "Philippines",
          "Poland",
          "Portugal",
          "Paraguay",
          "Sweden",
          "Singapore",
          "Slovakia",
          "El Salvador",
          "Turkey",
          "Taiwan",
          "United States Of America",
          "Uruguay"
         ],
         "locations": [
          "ARG",
          "AUT",
          "AUS",
          "BEL",
          "BOL",
          "BRA",
          "CAN",
          "CHE",
          "CHL",
          "COL",
          "CRI",
          "CZE",
          "DEU",
          "DNK",
          "DOM",
          "ECU",
          "EST",
          "ESP",
          "FIN",
          "FRA",
          "GBR",
          "GRC",
          "GTM",
          "HKG",
          "HND",
          "HUN",
          "IDN",
          "IRL",
          "ISL",
          "ITA",
          "JPN",
          "LTU",
          "LUX",
          "LVA",
          "MEX",
          "MYS",
          "NLD",
          "NOR",
          "NZL",
          "PAN",
          "PER",
          "PHL",
          "POL",
          "PRT",
          "PRY",
          "SWE",
          "SGP",
          "SVK",
          "SLV",
          "TUR",
          "TWN",
          "USA",
          "URY"
         ],
         "name": "",
         "type": "choropleth",
         "z": [
          2776971684,
          344322232,
          3372128479,
          556799739,
          97248182,
          6890194505,
          3201208648,
          487115409,
          2191334779,
          834076562,
          362874962,
          208602150,
          6072757512,
          1509648808,
          154057176,
          318441639,
          21653223,
          3754247012,
          1246077272,
          3146285237,
          7185860296,
          58780418,
          176974407,
          295800351,
          91375818,
          152772228,
          1287300250,
          648164942,
          80100254,
          2387015412,
          315926822,
          30363701,
          6018470,
          33654223,
          6344670992,
          652284423,
          3467630881,
          2011024798,
          813211531,
          131475020,
          1079068853,
          3320833608,
          785350179,
          441238052,
          167178465,
          3367838798,
          763807172,
          42731609,
          80421329,
          927101328,
          445881508,
          26384680151,
          194949960
         ]
        }
       ],
       "layout": {
        "coloraxis": {
         "colorbar": {
          "title": {
           "text": "Streams"
          }
         },
         "colorscale": [
          [
           0,
           "rgb(247,252,245)"
          ],
          [
           0.125,
           "rgb(229,245,224)"
          ],
          [
           0.25,
           "rgb(199,233,192)"
          ],
          [
           0.375,
           "rgb(161,217,155)"
          ],
          [
           0.5,
           "rgb(116,196,118)"
          ],
          [
           0.625,
           "rgb(65,171,93)"
          ],
          [
           0.75,
           "rgb(35,139,69)"
          ],
          [
           0.875,
           "rgb(0,109,44)"
          ],
          [
           1,
           "rgb(0,68,27)"
          ]
         ]
        },
        "geo": {
         "center": {},
         "domain": {
          "x": [
           0,
           1
          ],
          "y": [
           0,
           1
          ]
         },
         "projection": {
          "type": "orthographic"
         }
        },
        "legend": {
         "tracegroupgap": 0
        },
        "margin": {
         "t": 60
        },
        "template": {
         "data": {
          "bar": [
           {
            "error_x": {
             "color": "#2a3f5f"
            },
            "error_y": {
             "color": "#2a3f5f"
            },
            "marker": {
             "line": {
              "color": "#E5ECF6",
              "width": 0.5
             },
             "pattern": {
              "fillmode": "overlay",
              "size": 10,
              "solidity": 0.2
             }
            },
            "type": "bar"
           }
          ],
          "barpolar": [
           {
            "marker": {
             "line": {
              "color": "#E5ECF6",
              "width": 0.5
             },
             "pattern": {
              "fillmode": "overlay",
              "size": 10,
              "solidity": 0.2
             }
            },
            "type": "barpolar"
           }
          ],
          "carpet": [
           {
            "aaxis": {
             "endlinecolor": "#2a3f5f",
             "gridcolor": "white",
             "linecolor": "white",
             "minorgridcolor": "white",
             "startlinecolor": "#2a3f5f"
            },
            "baxis": {
             "endlinecolor": "#2a3f5f",
             "gridcolor": "white",
             "linecolor": "white",
             "minorgridcolor": "white",
             "startlinecolor": "#2a3f5f"
            },
            "type": "carpet"
           }
          ],
          "choropleth": [
           {
            "colorbar": {
             "outlinewidth": 0,
             "ticks": ""
            },
            "type": "choropleth"
           }
          ],
          "contour": [
           {
            "colorbar": {
             "outlinewidth": 0,
             "ticks": ""
            },
            "colorscale": [
             [
              0,
              "#0d0887"
             ],
             [
              0.1111111111111111,
              "#46039f"
             ],
             [
              0.2222222222222222,
              "#7201a8"
             ],
             [
              0.3333333333333333,
              "#9c179e"
             ],
             [
              0.4444444444444444,
              "#bd3786"
             ],
             [
              0.5555555555555556,
              "#d8576b"
             ],
             [
              0.6666666666666666,
              "#ed7953"
             ],
             [
              0.7777777777777778,
              "#fb9f3a"
             ],
             [
              0.8888888888888888,
              "#fdca26"
             ],
             [
              1,
              "#f0f921"
             ]
            ],
            "type": "contour"
           }
          ],
          "contourcarpet": [
           {
            "colorbar": {
             "outlinewidth": 0,
             "ticks": ""
            },
            "type": "contourcarpet"
           }
          ],
          "heatmap": [
           {
            "colorbar": {
             "outlinewidth": 0,
             "ticks": ""
            },
            "colorscale": [
             [
              0,
              "#0d0887"
             ],
             [
              0.1111111111111111,
              "#46039f"
             ],
             [
              0.2222222222222222,
              "#7201a8"
             ],
             [
              0.3333333333333333,
              "#9c179e"
             ],
             [
              0.4444444444444444,
              "#bd3786"
             ],
             [
              0.5555555555555556,
              "#d8576b"
             ],
             [
              0.6666666666666666,
              "#ed7953"
             ],
             [
              0.7777777777777778,
              "#fb9f3a"
             ],
             [
              0.8888888888888888,
              "#fdca26"
             ],
             [
              1,
              "#f0f921"
             ]
            ],
            "type": "heatmap"
           }
          ],
          "heatmapgl": [
           {
            "colorbar": {
             "outlinewidth": 0,
             "ticks": ""
            },
            "colorscale": [
             [
              0,
              "#0d0887"
             ],
             [
              0.1111111111111111,
              "#46039f"
             ],
             [
              0.2222222222222222,
              "#7201a8"
             ],
             [
              0.3333333333333333,
              "#9c179e"
             ],
             [
              0.4444444444444444,
              "#bd3786"
             ],
             [
              0.5555555555555556,
              "#d8576b"
             ],
             [
              0.6666666666666666,
              "#ed7953"
             ],
             [
              0.7777777777777778,
              "#fb9f3a"
             ],
             [
              0.8888888888888888,
              "#fdca26"
             ],
             [
              1,
              "#f0f921"
             ]
            ],
            "type": "heatmapgl"
           }
          ],
          "histogram": [
           {
            "marker": {
             "pattern": {
              "fillmode": "overlay",
              "size": 10,
              "solidity": 0.2
             }
            },
            "type": "histogram"
           }
          ],
          "histogram2d": [
           {
            "colorbar": {
             "outlinewidth": 0,
             "ticks": ""
            },
            "colorscale": [
             [
              0,
              "#0d0887"
             ],
             [
              0.1111111111111111,
              "#46039f"
             ],
             [
              0.2222222222222222,
              "#7201a8"
             ],
             [
              0.3333333333333333,
              "#9c179e"
             ],
             [
              0.4444444444444444,
              "#bd3786"
             ],
             [
              0.5555555555555556,
              "#d8576b"
             ],
             [
              0.6666666666666666,
              "#ed7953"
             ],
             [
              0.7777777777777778,
              "#fb9f3a"
             ],
             [
              0.8888888888888888,
              "#fdca26"
             ],
             [
              1,
              "#f0f921"
             ]
            ],
            "type": "histogram2d"
           }
          ],
          "histogram2dcontour": [
           {
            "colorbar": {
             "outlinewidth": 0,
             "ticks": ""
            },
            "colorscale": [
             [
              0,
              "#0d0887"
             ],
             [
              0.1111111111111111,
              "#46039f"
             ],
             [
              0.2222222222222222,
              "#7201a8"
             ],
             [
              0.3333333333333333,
              "#9c179e"
             ],
             [
              0.4444444444444444,
              "#bd3786"
             ],
             [
              0.5555555555555556,
              "#d8576b"
             ],
             [
              0.6666666666666666,
              "#ed7953"
             ],
             [
              0.7777777777777778,
              "#fb9f3a"
             ],
             [
              0.8888888888888888,
              "#fdca26"
             ],
             [
              1,
              "#f0f921"
             ]
            ],
            "type": "histogram2dcontour"
           }
          ],
          "mesh3d": [
           {
            "colorbar": {
             "outlinewidth": 0,
             "ticks": ""
            },
            "type": "mesh3d"
           }
          ],
          "parcoords": [
           {
            "line": {
             "colorbar": {
              "outlinewidth": 0,
              "ticks": ""
             }
            },
            "type": "parcoords"
           }
          ],
          "pie": [
           {
            "automargin": true,
            "type": "pie"
           }
          ],
          "scatter": [
           {
            "fillpattern": {
             "fillmode": "overlay",
             "size": 10,
             "solidity": 0.2
            },
            "type": "scatter"
           }
          ],
          "scatter3d": [
           {
            "line": {
             "colorbar": {
              "outlinewidth": 0,
              "ticks": ""
             }
            },
            "marker": {
             "colorbar": {
              "outlinewidth": 0,
              "ticks": ""
             }
            },
            "type": "scatter3d"
           }
          ],
          "scattercarpet": [
           {
            "marker": {
             "colorbar": {
              "outlinewidth": 0,
              "ticks": ""
             }
            },
            "type": "scattercarpet"
           }
          ],
          "scattergeo": [
           {
            "marker": {
             "colorbar": {
              "outlinewidth": 0,
              "ticks": ""
             }
            },
            "type": "scattergeo"
           }
          ],
          "scattergl": [
           {
            "marker": {
             "colorbar": {
              "outlinewidth": 0,
              "ticks": ""
             }
            },
            "type": "scattergl"
           }
          ],
          "scattermapbox": [
           {
            "marker": {
             "colorbar": {
              "outlinewidth": 0,
              "ticks": ""
             }
            },
            "type": "scattermapbox"
           }
          ],
          "scatterpolar": [
           {
            "marker": {
             "colorbar": {
              "outlinewidth": 0,
              "ticks": ""
             }
            },
            "type": "scatterpolar"
           }
          ],
          "scatterpolargl": [
           {
            "marker": {
             "colorbar": {
              "outlinewidth": 0,
              "ticks": ""
             }
            },
            "type": "scatterpolargl"
           }
          ],
          "scatterternary": [
           {
            "marker": {
             "colorbar": {
              "outlinewidth": 0,
              "ticks": ""
             }
            },
            "type": "scatterternary"
           }
          ],
          "surface": [
           {
            "colorbar": {
             "outlinewidth": 0,
             "ticks": ""
            },
            "colorscale": [
             [
              0,
              "#0d0887"
             ],
             [
              0.1111111111111111,
              "#46039f"
             ],
             [
              0.2222222222222222,
              "#7201a8"
             ],
             [
              0.3333333333333333,
              "#9c179e"
             ],
             [
              0.4444444444444444,
              "#bd3786"
             ],
             [
              0.5555555555555556,
              "#d8576b"
             ],
             [
              0.6666666666666666,
              "#ed7953"
             ],
             [
              0.7777777777777778,
              "#fb9f3a"
             ],
             [
              0.8888888888888888,
              "#fdca26"
             ],
             [
              1,
              "#f0f921"
             ]
            ],
            "type": "surface"
           }
          ],
          "table": [
           {
            "cells": {
             "fill": {
              "color": "#EBF0F8"
             },
             "line": {
              "color": "white"
             }
            },
            "header": {
             "fill": {
              "color": "#C8D4E3"
             },
             "line": {
              "color": "white"
             }
            },
            "type": "table"
           }
          ]
         },
         "layout": {
          "annotationdefaults": {
           "arrowcolor": "#2a3f5f",
           "arrowhead": 0,
           "arrowwidth": 1
          },
          "autotypenumbers": "strict",
          "coloraxis": {
           "colorbar": {
            "outlinewidth": 0,
            "ticks": ""
           }
          },
          "colorscale": {
           "diverging": [
            [
             0,
             "#8e0152"
            ],
            [
             0.1,
             "#c51b7d"
            ],
            [
             0.2,
             "#de77ae"
            ],
            [
             0.3,
             "#f1b6da"
            ],
            [
             0.4,
             "#fde0ef"
            ],
            [
             0.5,
             "#f7f7f7"
            ],
            [
             0.6,
             "#e6f5d0"
            ],
            [
             0.7,
             "#b8e186"
            ],
            [
             0.8,
             "#7fbc41"
            ],
            [
             0.9,
             "#4d9221"
            ],
            [
             1,
             "#276419"
            ]
           ],
           "sequential": [
            [
             0,
             "#0d0887"
            ],
            [
             0.1111111111111111,
             "#46039f"
            ],
            [
             0.2222222222222222,
             "#7201a8"
            ],
            [
             0.3333333333333333,
             "#9c179e"
            ],
            [
             0.4444444444444444,
             "#bd3786"
            ],
            [
             0.5555555555555556,
             "#d8576b"
            ],
            [
             0.6666666666666666,
             "#ed7953"
            ],
            [
             0.7777777777777778,
             "#fb9f3a"
            ],
            [
             0.8888888888888888,
             "#fdca26"
            ],
            [
             1,
             "#f0f921"
            ]
           ],
           "sequentialminus": [
            [
             0,
             "#0d0887"
            ],
            [
             0.1111111111111111,
             "#46039f"
            ],
            [
             0.2222222222222222,
             "#7201a8"
            ],
            [
             0.3333333333333333,
             "#9c179e"
            ],
            [
             0.4444444444444444,
             "#bd3786"
            ],
            [
             0.5555555555555556,
             "#d8576b"
            ],
            [
             0.6666666666666666,
             "#ed7953"
            ],
            [
             0.7777777777777778,
             "#fb9f3a"
            ],
            [
             0.8888888888888888,
             "#fdca26"
            ],
            [
             1,
             "#f0f921"
            ]
           ]
          },
          "colorway": [
           "#636efa",
           "#EF553B",
           "#00cc96",
           "#ab63fa",
           "#FFA15A",
           "#19d3f3",
           "#FF6692",
           "#B6E880",
           "#FF97FF",
           "#FECB52"
          ],
          "font": {
           "color": "#2a3f5f"
          },
          "geo": {
           "bgcolor": "white",
           "lakecolor": "white",
           "landcolor": "#E5ECF6",
           "showlakes": true,
           "showland": true,
           "subunitcolor": "white"
          },
          "hoverlabel": {
           "align": "left"
          },
          "hovermode": "closest",
          "mapbox": {
           "style": "light"
          },
          "paper_bgcolor": "white",
          "plot_bgcolor": "#E5ECF6",
          "polar": {
           "angularaxis": {
            "gridcolor": "white",
            "linecolor": "white",
            "ticks": ""
           },
           "bgcolor": "#E5ECF6",
           "radialaxis": {
            "gridcolor": "white",
            "linecolor": "white",
            "ticks": ""
           }
          },
          "scene": {
           "xaxis": {
            "backgroundcolor": "#E5ECF6",
            "gridcolor": "white",
            "gridwidth": 2,
            "linecolor": "white",
            "showbackground": true,
            "ticks": "",
            "zerolinecolor": "white"
           },
           "yaxis": {
            "backgroundcolor": "#E5ECF6",
            "gridcolor": "white",
            "gridwidth": 2,
            "linecolor": "white",
            "showbackground": true,
            "ticks": "",
            "zerolinecolor": "white"
           },
           "zaxis": {
            "backgroundcolor": "#E5ECF6",
            "gridcolor": "white",
            "gridwidth": 2,
            "linecolor": "white",
            "showbackground": true,
            "ticks": "",
            "zerolinecolor": "white"
           }
          },
          "shapedefaults": {
           "line": {
            "color": "#2a3f5f"
           }
          },
          "ternary": {
           "aaxis": {
            "gridcolor": "white",
            "linecolor": "white",
            "ticks": ""
           },
           "baxis": {
            "gridcolor": "white",
            "linecolor": "white",
            "ticks": ""
           },
           "bgcolor": "#E5ECF6",
           "caxis": {
            "gridcolor": "white",
            "linecolor": "white",
            "ticks": ""
           }
          },
          "title": {
           "x": 0.05
          },
          "xaxis": {
           "automargin": true,
           "gridcolor": "white",
           "linecolor": "white",
           "ticks": "",
           "title": {
            "standoff": 15
           },
           "zerolinecolor": "white",
           "zerolinewidth": 2
          },
          "yaxis": {
           "automargin": true,
           "gridcolor": "white",
           "linecolor": "white",
           "ticks": "",
           "title": {
            "standoff": 15
           },
           "zerolinecolor": "white",
           "zerolinewidth": 2
          }
         }
        }
       }
      }
     },
     "metadata": {},
     "output_type": "display_data"
    }
   ],
   "source": [
    "fig = px.choropleth(grouped_by_region_df, locations=\"Alpha-3 code\",\n",
    "                    color=\"Streams\", \n",
    "                    projection='orthographic',\n",
    "                    hover_name='Country name', # column to add to hover information\n",
    "                    color_continuous_scale='Greens')\n",
    "\n",
    "fig.show()"
   ]
  },
  {
   "attachments": {},
   "cell_type": "markdown",
   "metadata": {},
   "source": [
    "# Phân tích kết quả biểu đồ: \n",
    "- Nước Mỹ đóng góp tổng lượt streams cao nhất và rất trội so với các quốc gia còn lại.\n",
    "- Các quốc gia Nam Mỹ và Châu Âu cũng có nhu cầu nghe nhạc khá lớn.\n",
    "- Tại Châu Á: Úc, New Zealand và một số quốc gia trong Đông Nam Á như Malaysia, Indonesia, v.v. cũng đóng góp vào top quốc gia có tổng lượt streams cao."
   ]
  },
  {
   "attachments": {},
   "cell_type": "markdown",
   "metadata": {},
   "source": [
    "# <span style=\"color: orange;\">**Nước Mỹ là một thị trường tiềm năng cho các ca sĩ Việt Nam khi muốn đưa sản phẩm của mình đến với khán giả quốc tế. Hãy cùng phân tích thị trường này để giúp các nghệ sĩ trong nước có vài thông tin bổ ích!**</span>"
   ]
  },
  {
   "attachments": {},
   "cell_type": "markdown",
   "metadata": {},
   "source": [
    "## Tiền xử lý dữ liệu\n",
    "- Lọc dữ liệu đến từ nước Mỹ.\n",
    "- Loại bỏ các thuộc tính 'Position', 'Region'"
   ]
  },
  {
   "cell_type": "code",
   "execution_count": 10,
   "metadata": {},
   "outputs": [
    {
     "data": {
      "text/html": [
       "<div>\n",
       "<style scoped>\n",
       "    .dataframe tbody tr th:only-of-type {\n",
       "        vertical-align: middle;\n",
       "    }\n",
       "\n",
       "    .dataframe tbody tr th {\n",
       "        vertical-align: top;\n",
       "    }\n",
       "\n",
       "    .dataframe thead th {\n",
       "        text-align: right;\n",
       "    }\n",
       "</style>\n",
       "<table border=\"1\" class=\"dataframe\">\n",
       "  <thead>\n",
       "    <tr style=\"text-align: right;\">\n",
       "      <th></th>\n",
       "      <th>Track Name</th>\n",
       "      <th>Artist</th>\n",
       "      <th>US_Streams</th>\n",
       "      <th>Date</th>\n",
       "    </tr>\n",
       "  </thead>\n",
       "  <tbody>\n",
       "    <tr>\n",
       "      <th>771622</th>\n",
       "      <td>Bad and Boujee (feat. Lil Uzi Vert)</td>\n",
       "      <td>Migos</td>\n",
       "      <td>1371493</td>\n",
       "      <td>2017-01-01</td>\n",
       "    </tr>\n",
       "    <tr>\n",
       "      <th>771623</th>\n",
       "      <td>Fake Love</td>\n",
       "      <td>Drake</td>\n",
       "      <td>1180074</td>\n",
       "      <td>2017-01-01</td>\n",
       "    </tr>\n",
       "    <tr>\n",
       "      <th>771624</th>\n",
       "      <td>Starboy</td>\n",
       "      <td>The Weeknd</td>\n",
       "      <td>1064351</td>\n",
       "      <td>2017-01-01</td>\n",
       "    </tr>\n",
       "    <tr>\n",
       "      <th>771625</th>\n",
       "      <td>Closer</td>\n",
       "      <td>The Chainsmokers</td>\n",
       "      <td>1010492</td>\n",
       "      <td>2017-01-01</td>\n",
       "    </tr>\n",
       "    <tr>\n",
       "      <th>771626</th>\n",
       "      <td>Black Beatles</td>\n",
       "      <td>Rae Sremmurd</td>\n",
       "      <td>874289</td>\n",
       "      <td>2017-01-01</td>\n",
       "    </tr>\n",
       "    <tr>\n",
       "      <th>...</th>\n",
       "      <td>...</td>\n",
       "      <td>...</td>\n",
       "      <td>...</td>\n",
       "      <td>...</td>\n",
       "    </tr>\n",
       "    <tr>\n",
       "      <th>845817</th>\n",
       "      <td>Portland</td>\n",
       "      <td>Drake</td>\n",
       "      <td>184537</td>\n",
       "      <td>2018-01-09</td>\n",
       "    </tr>\n",
       "    <tr>\n",
       "      <th>845818</th>\n",
       "      <td>All On Me</td>\n",
       "      <td>Devin Dawson</td>\n",
       "      <td>184519</td>\n",
       "      <td>2018-01-09</td>\n",
       "    </tr>\n",
       "    <tr>\n",
       "      <th>845819</th>\n",
       "      <td>From The D To The A (feat. Lil Yachty)</td>\n",
       "      <td>Tee Grizzley</td>\n",
       "      <td>184428</td>\n",
       "      <td>2018-01-09</td>\n",
       "    </tr>\n",
       "    <tr>\n",
       "      <th>845820</th>\n",
       "      <td>Now Or Never</td>\n",
       "      <td>Halsey</td>\n",
       "      <td>184394</td>\n",
       "      <td>2018-01-09</td>\n",
       "    </tr>\n",
       "    <tr>\n",
       "      <th>845821</th>\n",
       "      <td>So Good (&amp; Metro Boomin)</td>\n",
       "      <td>Big Sean</td>\n",
       "      <td>184149</td>\n",
       "      <td>2018-01-09</td>\n",
       "    </tr>\n",
       "  </tbody>\n",
       "</table>\n",
       "<p>74200 rows × 4 columns</p>\n",
       "</div>"
      ],
      "text/plain": [
       "                                    Track Name            Artist  US_Streams  \\\n",
       "771622     Bad and Boujee (feat. Lil Uzi Vert)             Migos     1371493   \n",
       "771623                               Fake Love             Drake     1180074   \n",
       "771624                                 Starboy        The Weeknd     1064351   \n",
       "771625                                  Closer  The Chainsmokers     1010492   \n",
       "771626                           Black Beatles      Rae Sremmurd      874289   \n",
       "...                                        ...               ...         ...   \n",
       "845817                                Portland             Drake      184537   \n",
       "845818                               All On Me      Devin Dawson      184519   \n",
       "845819  From The D To The A (feat. Lil Yachty)      Tee Grizzley      184428   \n",
       "845820                            Now Or Never            Halsey      184394   \n",
       "845821                So Good (& Metro Boomin)          Big Sean      184149   \n",
       "\n",
       "             Date  \n",
       "771622 2017-01-01  \n",
       "771623 2017-01-01  \n",
       "771624 2017-01-01  \n",
       "771625 2017-01-01  \n",
       "771626 2017-01-01  \n",
       "...           ...  \n",
       "845817 2018-01-09  \n",
       "845818 2018-01-09  \n",
       "845819 2018-01-09  \n",
       "845820 2018-01-09  \n",
       "845821 2018-01-09  \n",
       "\n",
       "[74200 rows x 4 columns]"
      ]
     },
     "execution_count": 10,
     "metadata": {},
     "output_type": "execute_result"
    }
   ],
   "source": [
    "#####\n",
    "usa_df = df[df['Region'] == 'us']\n",
    "usa_df = usa_df.rename(columns={'Streams': 'US_Streams'})\n",
    "usa_df.drop(['Position','Region'], axis='columns', inplace=True)\n",
    "usa_df['Date'] = pd.to_datetime(usa_df['Date'])\n",
    "usa_df"
   ]
  },
  {
   "attachments": {},
   "cell_type": "markdown",
   "metadata": {},
   "source": [
    "# **Biểu đồ Donut Chart**"
   ]
  },
  {
   "attachments": {},
   "cell_type": "markdown",
   "metadata": {},
   "source": [
    "### Mục tiêu: \n",
    "- Trực quan tỉ lệ lượng streams 3 bài hát nhiều lượt streams nhất nước Mỹ theo các ngày trong tuần.\n",
    "\n",
    "### Tiền xử lý dữ liệu: \n",
    "- Tính tổng lượt streams theo từng bài hát rồi sau đó tìm ra 3 bài hát nhiều lượng streams nhất.\n",
    "- Thêm vào cột 'DayOfWeek' là thứ trong tuần tương ứng với ngày đó.\n",
    "- Tính tổng lượng streams của mỗi bài hát theo mỗi thứ trong tuần và sử dụng kỹ thuật chuẩn hóa dữ liệu.\n",
    "- Loại bỏ thuộc tính 'Artist', 'Date', 'Region'.\n",
    "### Các trường dữ liệu tương tác: \n",
    "- Track Name, DayOfWeek, US_Streams.\n",
    "\n",
    "Trong đó US_Streams là tổng lượng streams theo từng bài hát.  \n",
    "### Mục tiêu khi chọn Donut Chart để trực quan:\n",
    "- Donut Chart có thể xem như 1 biến thể hình thức của Pie Chart, biểu đồ trông sẽ sinh động và mới mẻ hơn.\n",
    "- Việc trực quan lượt streams theo 7 ngày trong tuần của bài nhạc sẽ chia thành 7 miền, vì vậy sử dụng Donut Chart là 1 biểu đồ hợp lý để người dùng tiện theo dõi và rút trích được thông tin bổ ích.\n",
    "### Màu sắc dùng để trực quan: \n",
    "- Xanh dương kết hợp phương pháp saturation.\n",
    "- Giải thích: Việc sử dụng màu sắc như thế này sẽ tạo ra sự đơn giản, giúp người xem dễ quan sát, so sánh mức độ lượt streams theo từng thứ trong tuần. \n",
    "### Lý do sử dụng 3 biểu đồ Donut Chart cùng lúc:\n",
    "- Việc sử dụng như thế này giúp người dùng quan sát được lượng streams phân bổ mỗi thứ trong tuần của 3 bài hát thịnh hành nhất, từ đó đối chiếu, so sánh và rút thêm được nhiều thông tin có cơ sở hơn. Đôi khi chỉ chọn 1 bài hát để trực quan rồi rút ra kết luận sẽ không đảm bảo được thông tin là minh bạch.\n",
    "### Các kỹ thuật sử dụng thêm:\n",
    "- Reduce: Giảm đi một số thuộc tính như 'Artist', 'Region', 'Date'.\n"
   ]
  },
  {
   "cell_type": "code",
   "execution_count": 11,
   "metadata": {},
   "outputs": [
    {
     "data": {
      "text/html": [
       "<div>\n",
       "<style scoped>\n",
       "    .dataframe tbody tr th:only-of-type {\n",
       "        vertical-align: middle;\n",
       "    }\n",
       "\n",
       "    .dataframe tbody tr th {\n",
       "        vertical-align: top;\n",
       "    }\n",
       "\n",
       "    .dataframe thead th {\n",
       "        text-align: right;\n",
       "    }\n",
       "</style>\n",
       "<table border=\"1\" class=\"dataframe\">\n",
       "  <thead>\n",
       "    <tr style=\"text-align: right;\">\n",
       "      <th></th>\n",
       "      <th>Track Name</th>\n",
       "      <th>US_Streams</th>\n",
       "    </tr>\n",
       "  </thead>\n",
       "  <tbody>\n",
       "    <tr>\n",
       "      <th>0</th>\n",
       "      <td>'Till I Collapse</td>\n",
       "      <td>36493752</td>\n",
       "    </tr>\n",
       "    <tr>\n",
       "      <th>1</th>\n",
       "      <td>(Don't Fear) The Reaper</td>\n",
       "      <td>543066</td>\n",
       "    </tr>\n",
       "    <tr>\n",
       "      <th>2</th>\n",
       "      <td>(I Can't Get No) Satisfaction - Mono Version /...</td>\n",
       "      <td>144843</td>\n",
       "    </tr>\n",
       "    <tr>\n",
       "      <th>3</th>\n",
       "      <td>(Intro) I'm so Grateful</td>\n",
       "      <td>208805</td>\n",
       "    </tr>\n",
       "    <tr>\n",
       "      <th>4</th>\n",
       "      <td>(Not) The One</td>\n",
       "      <td>195340</td>\n",
       "    </tr>\n",
       "    <tr>\n",
       "      <th>...</th>\n",
       "      <td>...</td>\n",
       "      <td>...</td>\n",
       "    </tr>\n",
       "    <tr>\n",
       "      <th>1619</th>\n",
       "      <td>top priority (with Ne-Yo)</td>\n",
       "      <td>224615</td>\n",
       "    </tr>\n",
       "    <tr>\n",
       "      <th>1620</th>\n",
       "      <td>up in this (with Tinashe)</td>\n",
       "      <td>222339</td>\n",
       "    </tr>\n",
       "    <tr>\n",
       "      <th>1621</th>\n",
       "      <td>wokeuplikethis*</td>\n",
       "      <td>80890486</td>\n",
       "    </tr>\n",
       "    <tr>\n",
       "      <th>1622</th>\n",
       "      <td>Échame La Culpa</td>\n",
       "      <td>16927120</td>\n",
       "    </tr>\n",
       "    <tr>\n",
       "      <th>1623</th>\n",
       "      <td>美女と野獣</td>\n",
       "      <td>1515427</td>\n",
       "    </tr>\n",
       "  </tbody>\n",
       "</table>\n",
       "<p>1624 rows × 2 columns</p>\n",
       "</div>"
      ],
      "text/plain": [
       "                                             Track Name  US_Streams\n",
       "0                                      'Till I Collapse    36493752\n",
       "1                               (Don't Fear) The Reaper      543066\n",
       "2     (I Can't Get No) Satisfaction - Mono Version /...      144843\n",
       "3                               (Intro) I'm so Grateful      208805\n",
       "4                                         (Not) The One      195340\n",
       "...                                                 ...         ...\n",
       "1619                          top priority (with Ne-Yo)      224615\n",
       "1620                          up in this (with Tinashe)      222339\n",
       "1621                                    wokeuplikethis*    80890486\n",
       "1622                                    Échame La Culpa    16927120\n",
       "1623                                              美女と野獣     1515427\n",
       "\n",
       "[1624 rows x 2 columns]"
      ]
     },
     "execution_count": 11,
     "metadata": {},
     "output_type": "execute_result"
    }
   ],
   "source": [
    "# Tính tổng số lượng người nghe theo từng bài hát\n",
    "grouped_by_trackname_df = usa_df.groupby(\"Track Name\")[\"US_Streams\"].sum().reset_index()\n",
    "grouped_by_trackname_df"
   ]
  },
  {
   "cell_type": "code",
   "execution_count": 12,
   "metadata": {},
   "outputs": [],
   "source": [
    "# Trích xuất 3 bài hát có Streams cao nhất\n",
    "top_3_track = grouped_by_trackname_df.nlargest(3, 'US_Streams')"
   ]
  },
  {
   "cell_type": "code",
   "execution_count": 13,
   "metadata": {},
   "outputs": [
    {
     "data": {
      "text/html": [
       "<div>\n",
       "<style scoped>\n",
       "    .dataframe tbody tr th:only-of-type {\n",
       "        vertical-align: middle;\n",
       "    }\n",
       "\n",
       "    .dataframe tbody tr th {\n",
       "        vertical-align: top;\n",
       "    }\n",
       "\n",
       "    .dataframe thead th {\n",
       "        text-align: right;\n",
       "    }\n",
       "</style>\n",
       "<table border=\"1\" class=\"dataframe\">\n",
       "  <thead>\n",
       "    <tr style=\"text-align: right;\">\n",
       "      <th></th>\n",
       "      <th>Track Name</th>\n",
       "      <th>US_Streams</th>\n",
       "    </tr>\n",
       "  </thead>\n",
       "  <tbody>\n",
       "    <tr>\n",
       "      <th>549</th>\n",
       "      <td>HUMBLE.</td>\n",
       "      <td>339677217</td>\n",
       "    </tr>\n",
       "    <tr>\n",
       "      <th>1564</th>\n",
       "      <td>XO TOUR Llif3</td>\n",
       "      <td>316206696</td>\n",
       "    </tr>\n",
       "    <tr>\n",
       "      <th>278</th>\n",
       "      <td>Congratulations</td>\n",
       "      <td>285451131</td>\n",
       "    </tr>\n",
       "  </tbody>\n",
       "</table>\n",
       "</div>"
      ],
      "text/plain": [
       "           Track Name  US_Streams\n",
       "549           HUMBLE.   339677217\n",
       "1564    XO TOUR Llif3   316206696\n",
       "278   Congratulations   285451131"
      ]
     },
     "execution_count": 13,
     "metadata": {},
     "output_type": "execute_result"
    }
   ],
   "source": [
    "top_3_track"
   ]
  },
  {
   "cell_type": "code",
   "execution_count": 14,
   "metadata": {},
   "outputs": [
    {
     "name": "stderr",
     "output_type": "stream",
     "text": [
      "C:\\Users\\Admin\\AppData\\Local\\Temp\\ipykernel_27472\\2417418174.py:2: SettingWithCopyWarning:\n",
      "\n",
      "\n",
      "A value is trying to be set on a copy of a slice from a DataFrame.\n",
      "Try using .loc[row_indexer,col_indexer] = value instead\n",
      "\n",
      "See the caveats in the documentation: https://pandas.pydata.org/pandas-docs/stable/user_guide/indexing.html#returning-a-view-versus-a-copy\n",
      "\n",
      "C:\\Users\\Admin\\AppData\\Local\\Temp\\ipykernel_27472\\2417418174.py:3: SettingWithCopyWarning:\n",
      "\n",
      "\n",
      "A value is trying to be set on a copy of a slice from a DataFrame.\n",
      "Try using .loc[row_indexer,col_indexer] = value instead\n",
      "\n",
      "See the caveats in the documentation: https://pandas.pydata.org/pandas-docs/stable/user_guide/indexing.html#returning-a-view-versus-a-copy\n",
      "\n"
     ]
    }
   ],
   "source": [
    "filtered_top_3_artist_df = usa_df[usa_df['Track Name'].isin(top_3_track['Track Name'].tolist())]\n",
    "filtered_top_3_artist_df['Date'] = pd.to_datetime(filtered_top_3_artist_df['Date'])\n",
    "filtered_top_3_artist_df['DayOfWeek'] = filtered_top_3_artist_df['Date'].dt.day_name()"
   ]
  },
  {
   "cell_type": "code",
   "execution_count": 15,
   "metadata": {},
   "outputs": [
    {
     "data": {
      "text/html": [
       "<div>\n",
       "<style scoped>\n",
       "    .dataframe tbody tr th:only-of-type {\n",
       "        vertical-align: middle;\n",
       "    }\n",
       "\n",
       "    .dataframe tbody tr th {\n",
       "        vertical-align: top;\n",
       "    }\n",
       "\n",
       "    .dataframe thead th {\n",
       "        text-align: right;\n",
       "    }\n",
       "</style>\n",
       "<table border=\"1\" class=\"dataframe\">\n",
       "  <thead>\n",
       "    <tr style=\"text-align: right;\">\n",
       "      <th></th>\n",
       "      <th>Track Name</th>\n",
       "      <th>Artist</th>\n",
       "      <th>US_Streams</th>\n",
       "      <th>Date</th>\n",
       "      <th>DayOfWeek</th>\n",
       "    </tr>\n",
       "  </thead>\n",
       "  <tbody>\n",
       "    <tr>\n",
       "      <th>771738</th>\n",
       "      <td>Congratulations</td>\n",
       "      <td>Post Malone</td>\n",
       "      <td>192751</td>\n",
       "      <td>2017-01-01</td>\n",
       "      <td>Sunday</td>\n",
       "    </tr>\n",
       "    <tr>\n",
       "      <th>771919</th>\n",
       "      <td>Congratulations</td>\n",
       "      <td>Post Malone</td>\n",
       "      <td>197483</td>\n",
       "      <td>2017-01-02</td>\n",
       "      <td>Monday</td>\n",
       "    </tr>\n",
       "    <tr>\n",
       "      <th>772115</th>\n",
       "      <td>Congratulations</td>\n",
       "      <td>Post Malone</td>\n",
       "      <td>227826</td>\n",
       "      <td>2017-01-03</td>\n",
       "      <td>Tuesday</td>\n",
       "    </tr>\n",
       "    <tr>\n",
       "      <th>772307</th>\n",
       "      <td>Congratulations</td>\n",
       "      <td>Post Malone</td>\n",
       "      <td>237540</td>\n",
       "      <td>2017-01-04</td>\n",
       "      <td>Wednesday</td>\n",
       "    </tr>\n",
       "    <tr>\n",
       "      <th>772508</th>\n",
       "      <td>Congratulations</td>\n",
       "      <td>Post Malone</td>\n",
       "      <td>242199</td>\n",
       "      <td>2017-01-05</td>\n",
       "      <td>Thursday</td>\n",
       "    </tr>\n",
       "    <tr>\n",
       "      <th>...</th>\n",
       "      <td>...</td>\n",
       "      <td>...</td>\n",
       "      <td>...</td>\n",
       "      <td>...</td>\n",
       "      <td>...</td>\n",
       "    </tr>\n",
       "    <tr>\n",
       "      <th>845450</th>\n",
       "      <td>Congratulations</td>\n",
       "      <td>Post Malone</td>\n",
       "      <td>571791</td>\n",
       "      <td>2018-01-08</td>\n",
       "      <td>Monday</td>\n",
       "    </tr>\n",
       "    <tr>\n",
       "      <th>845451</th>\n",
       "      <td>HUMBLE.</td>\n",
       "      <td>Kendrick Lamar</td>\n",
       "      <td>570619</td>\n",
       "      <td>2018-01-08</td>\n",
       "      <td>Monday</td>\n",
       "    </tr>\n",
       "    <tr>\n",
       "      <th>845638</th>\n",
       "      <td>XO TOUR Llif3</td>\n",
       "      <td>Lil Uzi Vert</td>\n",
       "      <td>677543</td>\n",
       "      <td>2018-01-09</td>\n",
       "      <td>Tuesday</td>\n",
       "    </tr>\n",
       "    <tr>\n",
       "      <th>845643</th>\n",
       "      <td>HUMBLE.</td>\n",
       "      <td>Kendrick Lamar</td>\n",
       "      <td>643860</td>\n",
       "      <td>2018-01-09</td>\n",
       "      <td>Tuesday</td>\n",
       "    </tr>\n",
       "    <tr>\n",
       "      <th>845652</th>\n",
       "      <td>Congratulations</td>\n",
       "      <td>Post Malone</td>\n",
       "      <td>585564</td>\n",
       "      <td>2018-01-09</td>\n",
       "      <td>Tuesday</td>\n",
       "    </tr>\n",
       "  </tbody>\n",
       "</table>\n",
       "<p>942 rows × 5 columns</p>\n",
       "</div>"
      ],
      "text/plain": [
       "             Track Name          Artist  US_Streams       Date  DayOfWeek\n",
       "771738  Congratulations     Post Malone      192751 2017-01-01     Sunday\n",
       "771919  Congratulations     Post Malone      197483 2017-01-02     Monday\n",
       "772115  Congratulations     Post Malone      227826 2017-01-03    Tuesday\n",
       "772307  Congratulations     Post Malone      237540 2017-01-04  Wednesday\n",
       "772508  Congratulations     Post Malone      242199 2017-01-05   Thursday\n",
       "...                 ...             ...         ...        ...        ...\n",
       "845450  Congratulations     Post Malone      571791 2018-01-08     Monday\n",
       "845451          HUMBLE.  Kendrick Lamar      570619 2018-01-08     Monday\n",
       "845638    XO TOUR Llif3    Lil Uzi Vert      677543 2018-01-09    Tuesday\n",
       "845643          HUMBLE.  Kendrick Lamar      643860 2018-01-09    Tuesday\n",
       "845652  Congratulations     Post Malone      585564 2018-01-09    Tuesday\n",
       "\n",
       "[942 rows x 5 columns]"
      ]
     },
     "execution_count": 15,
     "metadata": {},
     "output_type": "execute_result"
    }
   ],
   "source": [
    "filtered_top_3_artist_df"
   ]
  },
  {
   "cell_type": "code",
   "execution_count": 16,
   "metadata": {},
   "outputs": [
    {
     "data": {
      "text/html": [
       "<div>\n",
       "<style scoped>\n",
       "    .dataframe tbody tr th:only-of-type {\n",
       "        vertical-align: middle;\n",
       "    }\n",
       "\n",
       "    .dataframe tbody tr th {\n",
       "        vertical-align: top;\n",
       "    }\n",
       "\n",
       "    .dataframe thead th {\n",
       "        text-align: right;\n",
       "    }\n",
       "</style>\n",
       "<table border=\"1\" class=\"dataframe\">\n",
       "  <thead>\n",
       "    <tr style=\"text-align: right;\">\n",
       "      <th></th>\n",
       "      <th></th>\n",
       "      <th>US_Streams</th>\n",
       "    </tr>\n",
       "    <tr>\n",
       "      <th>Track Name</th>\n",
       "      <th>DayOfWeek</th>\n",
       "      <th></th>\n",
       "    </tr>\n",
       "  </thead>\n",
       "  <tbody>\n",
       "    <tr>\n",
       "      <th rowspan=\"7\" valign=\"top\">Congratulations</th>\n",
       "      <th>Friday</th>\n",
       "      <td>8.127520e+05</td>\n",
       "    </tr>\n",
       "    <tr>\n",
       "      <th>Monday</th>\n",
       "      <td>7.457200e+05</td>\n",
       "    </tr>\n",
       "    <tr>\n",
       "      <th>Saturday</th>\n",
       "      <td>7.777419e+05</td>\n",
       "    </tr>\n",
       "    <tr>\n",
       "      <th>Sunday</th>\n",
       "      <td>7.073977e+05</td>\n",
       "    </tr>\n",
       "    <tr>\n",
       "      <th>Thursday</th>\n",
       "      <td>7.970540e+05</td>\n",
       "    </tr>\n",
       "    <tr>\n",
       "      <th>Tuesday</th>\n",
       "      <td>7.674960e+05</td>\n",
       "    </tr>\n",
       "    <tr>\n",
       "      <th>Wednesday</th>\n",
       "      <td>7.803500e+05</td>\n",
       "    </tr>\n",
       "    <tr>\n",
       "      <th rowspan=\"7\" valign=\"top\">HUMBLE.</th>\n",
       "      <th>Friday</th>\n",
       "      <td>1.294682e+06</td>\n",
       "    </tr>\n",
       "    <tr>\n",
       "      <th>Monday</th>\n",
       "      <td>1.175383e+06</td>\n",
       "    </tr>\n",
       "    <tr>\n",
       "      <th>Saturday</th>\n",
       "      <td>1.235551e+06</td>\n",
       "    </tr>\n",
       "    <tr>\n",
       "      <th>Sunday</th>\n",
       "      <td>1.101415e+06</td>\n",
       "    </tr>\n",
       "    <tr>\n",
       "      <th>Thursday</th>\n",
       "      <td>1.222328e+06</td>\n",
       "    </tr>\n",
       "    <tr>\n",
       "      <th>Tuesday</th>\n",
       "      <td>1.197491e+06</td>\n",
       "    </tr>\n",
       "    <tr>\n",
       "      <th>Wednesday</th>\n",
       "      <td>1.207459e+06</td>\n",
       "    </tr>\n",
       "    <tr>\n",
       "      <th rowspan=\"7\" valign=\"top\">XO TOUR Llif3</th>\n",
       "      <th>Friday</th>\n",
       "      <td>1.140684e+06</td>\n",
       "    </tr>\n",
       "    <tr>\n",
       "      <th>Monday</th>\n",
       "      <td>1.061577e+06</td>\n",
       "    </tr>\n",
       "    <tr>\n",
       "      <th>Saturday</th>\n",
       "      <td>1.112653e+06</td>\n",
       "    </tr>\n",
       "    <tr>\n",
       "      <th>Sunday</th>\n",
       "      <td>1.016077e+06</td>\n",
       "    </tr>\n",
       "    <tr>\n",
       "      <th>Thursday</th>\n",
       "      <td>1.133705e+06</td>\n",
       "    </tr>\n",
       "    <tr>\n",
       "      <th>Tuesday</th>\n",
       "      <td>1.086539e+06</td>\n",
       "    </tr>\n",
       "    <tr>\n",
       "      <th>Wednesday</th>\n",
       "      <td>1.110394e+06</td>\n",
       "    </tr>\n",
       "  </tbody>\n",
       "</table>\n",
       "</div>"
      ],
      "text/plain": [
       "                             US_Streams\n",
       "Track Name      DayOfWeek              \n",
       "Congratulations Friday     8.127520e+05\n",
       "                Monday     7.457200e+05\n",
       "                Saturday   7.777419e+05\n",
       "                Sunday     7.073977e+05\n",
       "                Thursday   7.970540e+05\n",
       "                Tuesday    7.674960e+05\n",
       "                Wednesday  7.803500e+05\n",
       "HUMBLE.         Friday     1.294682e+06\n",
       "                Monday     1.175383e+06\n",
       "                Saturday   1.235551e+06\n",
       "                Sunday     1.101415e+06\n",
       "                Thursday   1.222328e+06\n",
       "                Tuesday    1.197491e+06\n",
       "                Wednesday  1.207459e+06\n",
       "XO TOUR Llif3   Friday     1.140684e+06\n",
       "                Monday     1.061577e+06\n",
       "                Saturday   1.112653e+06\n",
       "                Sunday     1.016077e+06\n",
       "                Thursday   1.133705e+06\n",
       "                Tuesday    1.086539e+06\n",
       "                Wednesday  1.110394e+06"
      ]
     },
     "execution_count": 16,
     "metadata": {},
     "output_type": "execute_result"
    }
   ],
   "source": [
    "# Tính tổng số streams của mỗi bài hát theo thứ trong tuần\n",
    "total_streams_by_day = filtered_top_3_artist_df.groupby(['Track Name', 'DayOfWeek'])['US_Streams'].mean()\n",
    "total_streams_by_day = pd.DataFrame(total_streams_by_day)\n",
    "total_streams_by_day"
   ]
  },
  {
   "cell_type": "code",
   "execution_count": 17,
   "metadata": {},
   "outputs": [
    {
     "data": {
      "text/plain": [
       "{'US_Streams': {('Congratulations', 'Friday'): 812752.0192307692,\n",
       "  ('Congratulations', 'Monday'): 745720.0370370371,\n",
       "  ('Congratulations', 'Saturday'): 777741.9056603773,\n",
       "  ('Congratulations', 'Sunday'): 707397.6666666666,\n",
       "  ('Congratulations', 'Thursday'): 797053.9811320754,\n",
       "  ('Congratulations', 'Tuesday'): 767496.0188679246,\n",
       "  ('Congratulations', 'Wednesday'): 780349.9807692308,\n",
       "  ('HUMBLE.', 'Friday'): 1294682.1,\n",
       "  ('HUMBLE.', 'Monday'): 1175383.3414634147,\n",
       "  ('HUMBLE.', 'Saturday'): 1235550.5609756098,\n",
       "  ('HUMBLE.', 'Sunday'): 1101414.536585366,\n",
       "  ('HUMBLE.', 'Thursday'): 1222327.55,\n",
       "  ('HUMBLE.', 'Tuesday'): 1197490.825,\n",
       "  ('HUMBLE.', 'Wednesday'): 1207459.282051282,\n",
       "  ('XO TOUR Llif3', 'Friday'): 1140683.5853658537,\n",
       "  ('XO TOUR Llif3', 'Monday'): 1061576.7857142857,\n",
       "  ('XO TOUR Llif3', 'Saturday'): 1112652.9285714286,\n",
       "  ('XO TOUR Llif3', 'Sunday'): 1016077.380952381,\n",
       "  ('XO TOUR Llif3', 'Thursday'): 1133705.1219512196,\n",
       "  ('XO TOUR Llif3', 'Tuesday'): 1086539.0731707318,\n",
       "  ('XO TOUR Llif3', 'Wednesday'): 1110393.975}}"
      ]
     },
     "execution_count": 17,
     "metadata": {},
     "output_type": "execute_result"
    }
   ],
   "source": [
    "dict_total_streams_by_day = total_streams_by_day.to_dict()\n",
    "dict_total_streams_by_day"
   ]
  },
  {
   "cell_type": "code",
   "execution_count": 18,
   "metadata": {},
   "outputs": [
    {
     "data": {
      "image/png": "[encoded data removed]",
      "text/plain": [
       "<Figure size 2500x800 with 3 Axes>"
      ]
     },
     "metadata": {},
     "output_type": "display_data"
    }
   ],
   "source": [
    "# Tách dữ liệu theo từng bài hát\n",
    "congratulations_data = {}\n",
    "humble_data = {}\n",
    "xotour_data = {}\n",
    "\n",
    "for key in dict_total_streams_by_day['US_Streams']:\n",
    "    if key[0] =='Congratulations':\n",
    "        congratulations_data[key[1]]= dict_total_streams_by_day['US_Streams'][key]\n",
    "    elif key[0] =='HUMBLE.':\n",
    "        humble_data[key[1]]= dict_total_streams_by_day['US_Streams'][key]\n",
    "    else:\n",
    "        xotour_data[key[1]]= dict_total_streams_by_day['US_Streams'][key]\n",
    "\n",
    "congratulations_data = dict(sorted(congratulations_data.items(), key=lambda x: x[1]))\n",
    "humble_data = dict(sorted(humble_data.items(), key=lambda x: x[1]))\n",
    "xotour_data = dict(sorted(xotour_data.items(), key=lambda x: x[1]))\n",
    "intensities = [0.1, 0.3, 0.5, 0.7, 0.4, 0.8, 0.9]\n",
    "cmap = plt.get_cmap('Blues')\n",
    "colors = [cmap(intensity) for intensity in intensities]\n",
    "\n",
    "\n",
    "# Vẽ biểu đồ donut\n",
    "\n",
    "fig, ax = plt.subplots(1, 3, figsize=(25, 8))\n",
    "# Vẽ biểu đồ donut thứ nhất\n",
    "ax[0].pie(congratulations_data.values(), labels=congratulations_data.keys(), colors=colors, startangle=90, counterclock=False, wedgeprops={'edgecolor': 'white'},autopct='%1.1f%%',pctdistance=0.80)\n",
    "ax[0].set_title('Congratulations',fontweight='bold')\n",
    "ax[0].pie([1], radius=0.6, colors='white', wedgeprops={'linewidth': 1, 'edgecolor': 'white'})\n",
    "\n",
    "# Vẽ biểu đồ donut thứ hai\n",
    "ax[1].pie(humble_data.values(), labels=humble_data.keys(), colors=colors, startangle=90, counterclock=False, wedgeprops={'edgecolor': 'white'},autopct='%1.1f%%',pctdistance=0.80)\n",
    "ax[1].set_title('HUMBLE.',fontweight='bold')\n",
    "ax[1].pie([1], radius=0.6, colors='white', wedgeprops={'linewidth': 1, 'edgecolor': 'white'})\n",
    "\n",
    "# Vẽ biểu đồ donut thứ ba\n",
    "ax[2].pie(xotour_data.values(), labels=xotour_data.keys(), colors=colors, startangle=90, counterclock=False, wedgeprops={'edgecolor': 'white'},autopct='%1.1f%%',pctdistance=0.80)\n",
    "ax[2].set_title('XO TOUR Llif3',fontweight='bold')\n",
    "ax[2].pie([1], radius=0.6, colors='white', wedgeprops={'linewidth': 1, 'edgecolor': 'white'})\n",
    "\n",
    "# Hiển thị biểu đồ\n",
    "fig.suptitle('Trung bình số lượng streams của 3 bài hát thịnh hành nhất quốc gia Mỹ tính theo các ngày trong tuần',fontweight='bold',fontsize = 24)\n",
    "plt.show()\n"
   ]
  },
  {
   "attachments": {},
   "cell_type": "markdown",
   "metadata": {},
   "source": [
    "# Phân tích kết quả biểu đồ: \n",
    "- Từ biểu đồ ta rút ra được 1 điều bất ngờ là cả 3 bài hát có sự phân bổ lượng streams theo từng thứ trong tuần rất giống nhau.\n",
    "- Từ 3 biểu đồ đều cho thấy lượng streams của mỗi bài hát sẽ cao nhất vào thứ 6, thấp nhất vào chủ nhật. Tuy nhiên sự chênh lệch giữa ngày cao nhất và thấp nhất chỉ ~ 2.3%\n",
    "- Tỷ lệ xếp hạng lượng streams theo từng thứ của mỗi bài hát đều giống nhau, chỉ khác về số liệu tuy nhiên sự chênh lệch này không nhiều.\n",
    "- Từ đó ta thấy lượng streams của khán giả đóng góp cho từng bài hát khá ổn định."
   ]
  },
  {
   "attachments": {},
   "cell_type": "markdown",
   "metadata": {},
   "source": [
    "# **Biểu đồ Line Chart**"
   ]
  },
  {
   "attachments": {},
   "cell_type": "markdown",
   "metadata": {},
   "source": [
    "### Mục tiêu: \n",
    "- Trực quan xu hướng tăng, giảm lượng streams giữa nước Mỹ với tổng các quốc gia khác trong 4 tuần gần nhất.\n",
    "\n",
    "### Tiền xử lý dữ liệu: \n",
    "- Tính tổng lượt streams theo từng ngày.\n",
    "- Lọc ra dữ liệu của 1 tháng gần nhất.\n",
    "- Loại bỏ thuộc tính 'Artist', 'Track Name', 'Region'.\n",
    "### Các trường dữ liệu tương tác: \n",
    "- Date, Streams, US_Streams.\n",
    "\n",
    "### Mục tiêu khi chọn biểu đồ đường để trực quan:\n",
    "- Biểu đồ đường mạnh trong việc trực quan xu hướng tăng giảm.\n",
    "- Quan sát dễ dàng dữ liệu ở ngày nào đạt đỉnh hay chạm đáy.\n",
    "- Là một biểu đồ tốt đối với quan sát sử dụng 1 đến 3 đường dữ liệu.\n",
    "### Màu sắc dùng để trực quan: \n",
    "- Xanh dương và cam.\n",
    "- Giải thích: Việc sử dụng 2 màu sắc này có độ tương phản cao giúp người xem phân biệt được 2 đường từ đó dễ dàng quan sát thông tin hơn.\n",
    "### Lý do sử dụng 2 đường:\n",
    "- Việc sử dụng như thế này giúp người dùng quan sát xu hướng nghe nhạc của quốc gia có lượng streams cao nhất so với tổng của các quốc gia khác. Từ đó chúng ta rút được các thống kê về xu hướng, sự tương đồng hay khác nhau giữa 2 đường.\n",
    "\n",
    "### Các kỹ thuật sử dụng thêm:\n",
    "- Reduce: Giảm đi một số thuộc tính như 'Artist', 'Track Name', 'Region'.\n",
    "- Đối với dữ liệu ở mỗi ngày, lượng streams ở nước Mỹ được biểu diễn bằng chấm tròn và các quốc gia khác là chấm vuông gợi sự khác biệt giữa 2 loại dữ liệu đang so sánh.\n",
    "- Việc chia biểu đồ thành 2 phần trực quan cho 14 ngày đầu, và 14 ngày sau sẽ giúp người xem dễ dàng theo dõi. Dữ liệu khi quan sát sẽ \"thoáng\" hơn thay vì khá sát nhau và ta không thể rút trích được thông tin gì từ việc quan sát."
   ]
  },
  {
   "cell_type": "code",
   "execution_count": 19,
   "metadata": {},
   "outputs": [],
   "source": [
    "df['Date'] = pd.to_datetime(df['Date'])\n",
    "# Tạo chuỗi ngày gần nhất trong 1 tháng gần nhất\n",
    "recent_dates = pd.date_range(end='2018-01-09', periods=28)\n",
    "\n",
    "# Lọc dữ liệu theo chuỗi ngày gần nhất\n",
    "recent_df = df[df['Date'].isin(recent_dates)]\n",
    "recent_df = recent_df[recent_df['Region'] != 'us']\n",
    "recent_usa_df = usa_df[usa_df['Date'].isin(recent_dates)]\n",
    "# Tính tổng số lượng người nghe theo từng ngày\n",
    "grouped_by_date_df = recent_df.groupby(\"Date\")[\"Streams\"].sum().reset_index()\n",
    "grouped_by_date_usa_df = recent_usa_df.groupby(\"Date\")[\"US_Streams\"].sum().reset_index()\n",
    "merged_grouped_by_date_df = pd.merge(grouped_by_date_df, grouped_by_date_usa_df, on='Date')\n",
    "cols = ['Streams','US_Streams']\n",
    "normalized_merged_grouped_by_date_df = (merged_grouped_by_date_df[cols] - merged_grouped_by_date_df[cols].min()) / (merged_grouped_by_date_df[cols].max() - merged_grouped_by_date_df[cols].min())\n",
    "# Gộp kết quả chuẩn hóa với các cột còn lại trong DataFrame\n",
    "normalized_merged_grouped_by_date_df = pd.concat([merged_grouped_by_date_df.drop(cols, axis=1),normalized_merged_grouped_by_date_df], axis=1)\n"
   ]
  },
  {
   "cell_type": "code",
   "execution_count": 20,
   "metadata": {},
   "outputs": [
    {
     "data": {
      "text/html": [
       "<div>\n",
       "<style scoped>\n",
       "    .dataframe tbody tr th:only-of-type {\n",
       "        vertical-align: middle;\n",
       "    }\n",
       "\n",
       "    .dataframe tbody tr th {\n",
       "        vertical-align: top;\n",
       "    }\n",
       "\n",
       "    .dataframe thead th {\n",
       "        text-align: right;\n",
       "    }\n",
       "</style>\n",
       "<table border=\"1\" class=\"dataframe\">\n",
       "  <thead>\n",
       "    <tr style=\"text-align: right;\">\n",
       "      <th></th>\n",
       "      <th>Date</th>\n",
       "      <th>Streams</th>\n",
       "      <th>US_Streams</th>\n",
       "    </tr>\n",
       "  </thead>\n",
       "  <tbody>\n",
       "    <tr>\n",
       "      <th>0</th>\n",
       "      <td>2017-12-13</td>\n",
       "      <td>0.232804</td>\n",
       "      <td>0.417095</td>\n",
       "    </tr>\n",
       "    <tr>\n",
       "      <th>1</th>\n",
       "      <td>2017-12-14</td>\n",
       "      <td>0.248170</td>\n",
       "      <td>0.428772</td>\n",
       "    </tr>\n",
       "    <tr>\n",
       "      <th>2</th>\n",
       "      <td>2017-12-15</td>\n",
       "      <td>0.455502</td>\n",
       "      <td>0.657370</td>\n",
       "    </tr>\n",
       "    <tr>\n",
       "      <th>3</th>\n",
       "      <td>2017-12-16</td>\n",
       "      <td>0.416581</td>\n",
       "      <td>0.511701</td>\n",
       "    </tr>\n",
       "    <tr>\n",
       "      <th>4</th>\n",
       "      <td>2017-12-17</td>\n",
       "      <td>0.185348</td>\n",
       "      <td>0.217371</td>\n",
       "    </tr>\n",
       "    <tr>\n",
       "      <th>5</th>\n",
       "      <td>2017-12-18</td>\n",
       "      <td>0.248184</td>\n",
       "      <td>0.380006</td>\n",
       "    </tr>\n",
       "    <tr>\n",
       "      <th>6</th>\n",
       "      <td>2017-12-19</td>\n",
       "      <td>0.308129</td>\n",
       "      <td>0.446865</td>\n",
       "    </tr>\n",
       "    <tr>\n",
       "      <th>7</th>\n",
       "      <td>2017-12-20</td>\n",
       "      <td>0.355819</td>\n",
       "      <td>0.454612</td>\n",
       "    </tr>\n",
       "    <tr>\n",
       "      <th>8</th>\n",
       "      <td>2017-12-21</td>\n",
       "      <td>0.402572</td>\n",
       "      <td>0.469606</td>\n",
       "    </tr>\n",
       "    <tr>\n",
       "      <th>9</th>\n",
       "      <td>2017-12-22</td>\n",
       "      <td>0.540493</td>\n",
       "      <td>0.809447</td>\n",
       "    </tr>\n",
       "    <tr>\n",
       "      <th>10</th>\n",
       "      <td>2017-12-23</td>\n",
       "      <td>0.553151</td>\n",
       "      <td>0.613664</td>\n",
       "    </tr>\n",
       "    <tr>\n",
       "      <th>11</th>\n",
       "      <td>2017-12-24</td>\n",
       "      <td>1.000000</td>\n",
       "      <td>0.725838</td>\n",
       "    </tr>\n",
       "    <tr>\n",
       "      <th>12</th>\n",
       "      <td>2017-12-25</td>\n",
       "      <td>0.594736</td>\n",
       "      <td>1.000000</td>\n",
       "    </tr>\n",
       "    <tr>\n",
       "      <th>13</th>\n",
       "      <td>2017-12-26</td>\n",
       "      <td>0.025112</td>\n",
       "      <td>0.000000</td>\n",
       "    </tr>\n",
       "    <tr>\n",
       "      <th>14</th>\n",
       "      <td>2017-12-27</td>\n",
       "      <td>0.103792</td>\n",
       "      <td>0.160822</td>\n",
       "    </tr>\n",
       "    <tr>\n",
       "      <th>15</th>\n",
       "      <td>2017-12-28</td>\n",
       "      <td>0.146028</td>\n",
       "      <td>0.170028</td>\n",
       "    </tr>\n",
       "    <tr>\n",
       "      <th>16</th>\n",
       "      <td>2017-12-29</td>\n",
       "      <td>0.198301</td>\n",
       "      <td>0.168778</td>\n",
       "    </tr>\n",
       "    <tr>\n",
       "      <th>17</th>\n",
       "      <td>2017-12-30</td>\n",
       "      <td>0.180113</td>\n",
       "      <td>0.107967</td>\n",
       "    </tr>\n",
       "    <tr>\n",
       "      <th>18</th>\n",
       "      <td>2017-12-31</td>\n",
       "      <td>0.606678</td>\n",
       "      <td>0.175405</td>\n",
       "    </tr>\n",
       "    <tr>\n",
       "      <th>19</th>\n",
       "      <td>2018-01-01</td>\n",
       "      <td>0.000000</td>\n",
       "      <td>0.132998</td>\n",
       "    </tr>\n",
       "    <tr>\n",
       "      <th>20</th>\n",
       "      <td>2018-01-02</td>\n",
       "      <td>0.088179</td>\n",
       "      <td>0.089950</td>\n",
       "    </tr>\n",
       "    <tr>\n",
       "      <th>21</th>\n",
       "      <td>2018-01-03</td>\n",
       "      <td>0.137196</td>\n",
       "      <td>0.215842</td>\n",
       "    </tr>\n",
       "    <tr>\n",
       "      <th>22</th>\n",
       "      <td>2018-01-04</td>\n",
       "      <td>0.154739</td>\n",
       "      <td>0.188233</td>\n",
       "    </tr>\n",
       "    <tr>\n",
       "      <th>23</th>\n",
       "      <td>2018-01-05</td>\n",
       "      <td>0.256884</td>\n",
       "      <td>0.354588</td>\n",
       "    </tr>\n",
       "    <tr>\n",
       "      <th>24</th>\n",
       "      <td>2018-01-06</td>\n",
       "      <td>0.189442</td>\n",
       "      <td>0.231881</td>\n",
       "    </tr>\n",
       "    <tr>\n",
       "      <th>25</th>\n",
       "      <td>2018-01-07</td>\n",
       "      <td>0.038022</td>\n",
       "      <td>0.070428</td>\n",
       "    </tr>\n",
       "    <tr>\n",
       "      <th>26</th>\n",
       "      <td>2018-01-08</td>\n",
       "      <td>0.171144</td>\n",
       "      <td>0.280550</td>\n",
       "    </tr>\n",
       "    <tr>\n",
       "      <th>27</th>\n",
       "      <td>2018-01-09</td>\n",
       "      <td>0.217461</td>\n",
       "      <td>0.373569</td>\n",
       "    </tr>\n",
       "  </tbody>\n",
       "</table>\n",
       "</div>"
      ],
      "text/plain": [
       "         Date   Streams  US_Streams\n",
       "0  2017-12-13  0.232804    0.417095\n",
       "1  2017-12-14  0.248170    0.428772\n",
       "2  2017-12-15  0.455502    0.657370\n",
       "3  2017-12-16  0.416581    0.511701\n",
       "4  2017-12-17  0.185348    0.217371\n",
       "5  2017-12-18  0.248184    0.380006\n",
       "6  2017-12-19  0.308129    0.446865\n",
       "7  2017-12-20  0.355819    0.454612\n",
       "8  2017-12-21  0.402572    0.469606\n",
       "9  2017-12-22  0.540493    0.809447\n",
       "10 2017-12-23  0.553151    0.613664\n",
       "11 2017-12-24  1.000000    0.725838\n",
       "12 2017-12-25  0.594736    1.000000\n",
       "13 2017-12-26  0.025112    0.000000\n",
       "14 2017-12-27  0.103792    0.160822\n",
       "15 2017-12-28  0.146028    0.170028\n",
       "16 2017-12-29  0.198301    0.168778\n",
       "17 2017-12-30  0.180113    0.107967\n",
       "18 2017-12-31  0.606678    0.175405\n",
       "19 2018-01-01  0.000000    0.132998\n",
       "20 2018-01-02  0.088179    0.089950\n",
       "21 2018-01-03  0.137196    0.215842\n",
       "22 2018-01-04  0.154739    0.188233\n",
       "23 2018-01-05  0.256884    0.354588\n",
       "24 2018-01-06  0.189442    0.231881\n",
       "25 2018-01-07  0.038022    0.070428\n",
       "26 2018-01-08  0.171144    0.280550\n",
       "27 2018-01-09  0.217461    0.373569"
      ]
     },
     "execution_count": 20,
     "metadata": {},
     "output_type": "execute_result"
    }
   ],
   "source": [
    "normalized_merged_grouped_by_date_df"
   ]
  },
  {
   "cell_type": "code",
   "execution_count": 21,
   "metadata": {},
   "outputs": [
    {
     "data": {
      "application/vnd.plotly.v1+json": {
       "config": {
        "plotlyServerURL": "https://plot.ly"
       },
       "data": [
        {
         "line": {
          "color": "blue",
          "width": 2
         },
         "marker": {
          "symbol": "circle"
         },
         "mode": "markers+lines",
         "name": "US_Streams",
         "type": "scatter",
         "x": [
          "2017-12-13T00:00:00",
          "2017-12-14T00:00:00",
          "2017-12-15T00:00:00",
          "2017-12-16T00:00:00",
          "2017-12-17T00:00:00",
          "2017-12-18T00:00:00",
          "2017-12-19T00:00:00",
          "2017-12-20T00:00:00",
          "2017-12-21T00:00:00",
          "2017-12-22T00:00:00",
          "2017-12-23T00:00:00",
          "2017-12-24T00:00:00",
          "2017-12-25T00:00:00",
          "2017-12-26T00:00:00"
         ],
         "y": [
          0.41709499358221713,
          0.42877242639439817,
          0.6573698905196822,
          0.5117010724477103,
          0.21737087408300662,
          0.3800055479923384,
          0.44686474546324173,
          0.45461239864606845,
          0.46960649324303905,
          0.8094469326229191,
          0.6136642757860066,
          0.7258378384084633,
          1,
          0
         ]
        },
        {
         "line": {
          "color": "orange",
          "width": 2
         },
         "marker": {
          "size": 8,
          "symbol": "square"
         },
         "mode": "markers+lines",
         "name": "Other countries's Streams",
         "type": "scatter",
         "x": [
          "2017-12-13T00:00:00",
          "2017-12-14T00:00:00",
          "2017-12-15T00:00:00",
          "2017-12-16T00:00:00",
          "2017-12-17T00:00:00",
          "2017-12-18T00:00:00",
          "2017-12-19T00:00:00",
          "2017-12-20T00:00:00",
          "2017-12-21T00:00:00",
          "2017-12-22T00:00:00",
          "2017-12-23T00:00:00",
          "2017-12-24T00:00:00",
          "2017-12-25T00:00:00",
          "2017-12-26T00:00:00"
         ],
         "y": [
          0.23280438183626967,
          0.24816994069605286,
          0.4555015209717824,
          0.41658124190217666,
          0.18534781689420607,
          0.24818433983227192,
          0.30812947686892916,
          0.3558189897497169,
          0.40257174311213034,
          0.5404927155700299,
          0.5531513638838873,
          1,
          0.5947360528892692,
          0.02511182304426448
         ]
        }
       ],
       "layout": {
        "legend": {
         "orientation": "h"
        },
        "plot_bgcolor": "lightgray",
        "showlegend": true,
        "template": {
         "data": {
          "bar": [
           {
            "error_x": {
             "color": "#2a3f5f"
            },
            "error_y": {
             "color": "#2a3f5f"
            },
            "marker": {
             "line": {
              "color": "#E5ECF6",
              "width": 0.5
             },
             "pattern": {
              "fillmode": "overlay",
              "size": 10,
              "solidity": 0.2
             }
            },
            "type": "bar"
           }
          ],
          "barpolar": [
           {
            "marker": {
             "line": {
              "color": "#E5ECF6",
              "width": 0.5
             },
             "pattern": {
              "fillmode": "overlay",
              "size": 10,
              "solidity": 0.2
             }
            },
            "type": "barpolar"
           }
          ],
          "carpet": [
           {
            "aaxis": {
             "endlinecolor": "#2a3f5f",
             "gridcolor": "white",
             "linecolor": "white",
             "minorgridcolor": "white",
             "startlinecolor": "#2a3f5f"
            },
            "baxis": {
             "endlinecolor": "#2a3f5f",
             "gridcolor": "white",
             "linecolor": "white",
             "minorgridcolor": "white",
             "startlinecolor": "#2a3f5f"
            },
            "type": "carpet"
           }
          ],
          "choropleth": [
           {
            "colorbar": {
             "outlinewidth": 0,
             "ticks": ""
            },
            "type": "choropleth"
           }
          ],
          "contour": [
           {
            "colorbar": {
             "outlinewidth": 0,
             "ticks": ""
            },
            "colorscale": [
             [
              0,
              "#0d0887"
             ],
             [
              0.1111111111111111,
              "#46039f"
             ],
             [
              0.2222222222222222,
              "#7201a8"
             ],
             [
              0.3333333333333333,
              "#9c179e"
             ],
             [
              0.4444444444444444,
              "#bd3786"
             ],
             [
              0.5555555555555556,
              "#d8576b"
             ],
             [
              0.6666666666666666,
              "#ed7953"
             ],
             [
              0.7777777777777778,
              "#fb9f3a"
             ],
             [
              0.8888888888888888,
              "#fdca26"
             ],
             [
              1,
              "#f0f921"
             ]
            ],
            "type": "contour"
           }
          ],
          "contourcarpet": [
           {
            "colorbar": {
             "outlinewidth": 0,
             "ticks": ""
            },
            "type": "contourcarpet"
           }
          ],
          "heatmap": [
           {
            "colorbar": {
             "outlinewidth": 0,
             "ticks": ""
            },
            "colorscale": [
             [
              0,
              "#0d0887"
             ],
             [
              0.1111111111111111,
              "#46039f"
             ],
             [
              0.2222222222222222,
              "#7201a8"
             ],
             [
              0.3333333333333333,
              "#9c179e"
             ],
             [
              0.4444444444444444,
              "#bd3786"
             ],
             [
              0.5555555555555556,
              "#d8576b"
             ],
             [
              0.6666666666666666,
              "#ed7953"
             ],
             [
              0.7777777777777778,
              "#fb9f3a"
             ],
             [
              0.8888888888888888,
              "#fdca26"
             ],
             [
              1,
              "#f0f921"
             ]
            ],
            "type": "heatmap"
           }
          ],
          "heatmapgl": [
           {
            "colorbar": {
             "outlinewidth": 0,
             "ticks": ""
            },
            "colorscale": [
             [
              0,
              "#0d0887"
             ],
             [
              0.1111111111111111,
              "#46039f"
             ],
             [
              0.2222222222222222,
              "#7201a8"
             ],
             [
              0.3333333333333333,
              "#9c179e"
             ],
             [
              0.4444444444444444,
              "#bd3786"
             ],
             [
              0.5555555555555556,
              "#d8576b"
             ],
             [
              0.6666666666666666,
              "#ed7953"
             ],
             [
              0.7777777777777778,
              "#fb9f3a"
             ],
             [
              0.8888888888888888,
              "#fdca26"
             ],
             [
              1,
              "#f0f921"
             ]
            ],
            "type": "heatmapgl"
           }
          ],
          "histogram": [
           {
            "marker": {
             "pattern": {
              "fillmode": "overlay",
              "size": 10,
              "solidity": 0.2
             }
            },
            "type": "histogram"
           }
          ],
          "histogram2d": [
           {
            "colorbar": {
             "outlinewidth": 0,
             "ticks": ""
            },
            "colorscale": [
             [
              0,
              "#0d0887"
             ],
             [
              0.1111111111111111,
              "#46039f"
             ],
             [
              0.2222222222222222,
              "#7201a8"
             ],
             [
              0.3333333333333333,
              "#9c179e"
             ],
             [
              0.4444444444444444,
              "#bd3786"
             ],
             [
              0.5555555555555556,
              "#d8576b"
             ],
             [
              0.6666666666666666,
              "#ed7953"
             ],
             [
              0.7777777777777778,
              "#fb9f3a"
             ],
             [
              0.8888888888888888,
              "#fdca26"
             ],
             [
              1,
              "#f0f921"
             ]
            ],
            "type": "histogram2d"
           }
          ],
          "histogram2dcontour": [
           {
            "colorbar": {
             "outlinewidth": 0,
             "ticks": ""
            },
            "colorscale": [
             [
              0,
              "#0d0887"
             ],
             [
              0.1111111111111111,
              "#46039f"
             ],
             [
              0.2222222222222222,
              "#7201a8"
             ],
             [
              0.3333333333333333,
              "#9c179e"
             ],
             [
              0.4444444444444444,
              "#bd3786"
             ],
             [
              0.5555555555555556,
              "#d8576b"
             ],
             [
              0.6666666666666666,
              "#ed7953"
             ],
             [
              0.7777777777777778,
              "#fb9f3a"
             ],
             [
              0.8888888888888888,
              "#fdca26"
             ],
             [
              1,
              "#f0f921"
             ]
            ],
            "type": "histogram2dcontour"
           }
          ],
          "mesh3d": [
           {
            "colorbar": {
             "outlinewidth": 0,
             "ticks": ""
            },
            "type": "mesh3d"
           }
          ],
          "parcoords": [
           {
            "line": {
             "colorbar": {
              "outlinewidth": 0,
              "ticks": ""
             }
            },
            "type": "parcoords"
           }
          ],
          "pie": [
           {
            "automargin": true,
            "type": "pie"
           }
          ],
          "scatter": [
           {
            "fillpattern": {
             "fillmode": "overlay",
             "size": 10,
             "solidity": 0.2
            },
            "type": "scatter"
           }
          ],
          "scatter3d": [
           {
            "line": {
             "colorbar": {
              "outlinewidth": 0,
              "ticks": ""
             }
            },
            "marker": {
             "colorbar": {
              "outlinewidth": 0,
              "ticks": ""
             }
            },
            "type": "scatter3d"
           }
          ],
          "scattercarpet": [
           {
            "marker": {
             "colorbar": {
              "outlinewidth": 0,
              "ticks": ""
             }
            },
            "type": "scattercarpet"
           }
          ],
          "scattergeo": [
           {
            "marker": {
             "colorbar": {
              "outlinewidth": 0,
              "ticks": ""
             }
            },
            "type": "scattergeo"
           }
          ],
          "scattergl": [
           {
            "marker": {
             "colorbar": {
              "outlinewidth": 0,
              "ticks": ""
             }
            },
            "type": "scattergl"
           }
          ],
          "scattermapbox": [
           {
            "marker": {
             "colorbar": {
              "outlinewidth": 0,
              "ticks": ""
             }
            },
            "type": "scattermapbox"
           }
          ],
          "scatterpolar": [
           {
            "marker": {
             "colorbar": {
              "outlinewidth": 0,
              "ticks": ""
             }
            },
            "type": "scatterpolar"
           }
          ],
          "scatterpolargl": [
           {
            "marker": {
             "colorbar": {
              "outlinewidth": 0,
              "ticks": ""
             }
            },
            "type": "scatterpolargl"
           }
          ],
          "scatterternary": [
           {
            "marker": {
             "colorbar": {
              "outlinewidth": 0,
              "ticks": ""
             }
            },
            "type": "scatterternary"
           }
          ],
          "surface": [
           {
            "colorbar": {
             "outlinewidth": 0,
             "ticks": ""
            },
            "colorscale": [
             [
              0,
              "#0d0887"
             ],
             [
              0.1111111111111111,
              "#46039f"
             ],
             [
              0.2222222222222222,
              "#7201a8"
             ],
             [
              0.3333333333333333,
              "#9c179e"
             ],
             [
              0.4444444444444444,
              "#bd3786"
             ],
             [
              0.5555555555555556,
              "#d8576b"
             ],
             [
              0.6666666666666666,
              "#ed7953"
             ],
             [
              0.7777777777777778,
              "#fb9f3a"
             ],
             [
              0.8888888888888888,
              "#fdca26"
             ],
             [
              1,
              "#f0f921"
             ]
            ],
            "type": "surface"
           }
          ],
          "table": [
           {
            "cells": {
             "fill": {
              "color": "#EBF0F8"
             },
             "line": {
              "color": "white"
             }
            },
            "header": {
             "fill": {
              "color": "#C8D4E3"
             },
             "line": {
              "color": "white"
             }
            },
            "type": "table"
           }
          ]
         },
         "layout": {
          "annotationdefaults": {
           "arrowcolor": "#2a3f5f",
           "arrowhead": 0,
           "arrowwidth": 1
          },
          "autotypenumbers": "strict",
          "coloraxis": {
           "colorbar": {
            "outlinewidth": 0,
            "ticks": ""
           }
          },
          "colorscale": {
           "diverging": [
            [
             0,
             "#8e0152"
            ],
            [
             0.1,
             "#c51b7d"
            ],
            [
             0.2,
             "#de77ae"
            ],
            [
             0.3,
             "#f1b6da"
            ],
            [
             0.4,
             "#fde0ef"
            ],
            [
             0.5,
             "#f7f7f7"
            ],
            [
             0.6,
             "#e6f5d0"
            ],
            [
             0.7,
             "#b8e186"
            ],
            [
             0.8,
             "#7fbc41"
            ],
            [
             0.9,
             "#4d9221"
            ],
            [
             1,
             "#276419"
            ]
           ],
           "sequential": [
            [
             0,
             "#0d0887"
            ],
            [
             0.1111111111111111,
             "#46039f"
            ],
            [
             0.2222222222222222,
             "#7201a8"
            ],
            [
             0.3333333333333333,
             "#9c179e"
            ],
            [
             0.4444444444444444,
             "#bd3786"
            ],
            [
             0.5555555555555556,
             "#d8576b"
            ],
            [
             0.6666666666666666,
             "#ed7953"
            ],
            [
             0.7777777777777778,
             "#fb9f3a"
            ],
            [
             0.8888888888888888,
             "#fdca26"
            ],
            [
             1,
             "#f0f921"
            ]
           ],
           "sequentialminus": [
            [
             0,
             "#0d0887"
            ],
            [
             0.1111111111111111,
             "#46039f"
            ],
            [
             0.2222222222222222,
             "#7201a8"
            ],
            [
             0.3333333333333333,
             "#9c179e"
            ],
            [
             0.4444444444444444,
             "#bd3786"
            ],
            [
             0.5555555555555556,
             "#d8576b"
            ],
            [
             0.6666666666666666,
             "#ed7953"
            ],
            [
             0.7777777777777778,
             "#fb9f3a"
            ],
            [
             0.8888888888888888,
             "#fdca26"
            ],
            [
             1,
             "#f0f921"
            ]
           ]
          },
          "colorway": [
           "#636efa",
           "#EF553B",
           "#00cc96",
           "#ab63fa",
           "#FFA15A",
           "#19d3f3",
           "#FF6692",
           "#B6E880",
           "#FF97FF",
           "#FECB52"
          ],
          "font": {
           "color": "#2a3f5f"
          },
          "geo": {
           "bgcolor": "white",
           "lakecolor": "white",
           "landcolor": "#E5ECF6",
           "showlakes": true,
           "showland": true,
           "subunitcolor": "white"
          },
          "hoverlabel": {
           "align": "left"
          },
          "hovermode": "closest",
          "mapbox": {
           "style": "light"
          },
          "paper_bgcolor": "white",
          "plot_bgcolor": "#E5ECF6",
          "polar": {
           "angularaxis": {
            "gridcolor": "white",
            "linecolor": "white",
            "ticks": ""
           },
           "bgcolor": "#E5ECF6",
           "radialaxis": {
            "gridcolor": "white",
            "linecolor": "white",
            "ticks": ""
           }
          },
          "scene": {
           "xaxis": {
            "backgroundcolor": "#E5ECF6",
            "gridcolor": "white",
            "gridwidth": 2,
            "linecolor": "white",
            "showbackground": true,
            "ticks": "",
            "zerolinecolor": "white"
           },
           "yaxis": {
            "backgroundcolor": "#E5ECF6",
            "gridcolor": "white",
            "gridwidth": 2,
            "linecolor": "white",
            "showbackground": true,
            "ticks": "",
            "zerolinecolor": "white"
           },
           "zaxis": {
            "backgroundcolor": "#E5ECF6",
            "gridcolor": "white",
            "gridwidth": 2,
            "linecolor": "white",
            "showbackground": true,
            "ticks": "",
            "zerolinecolor": "white"
           }
          },
          "shapedefaults": {
           "line": {
            "color": "#2a3f5f"
           }
          },
          "ternary": {
           "aaxis": {
            "gridcolor": "white",
            "linecolor": "white",
            "ticks": ""
           },
           "baxis": {
            "gridcolor": "white",
            "linecolor": "white",
            "ticks": ""
           },
           "bgcolor": "#E5ECF6",
           "caxis": {
            "gridcolor": "white",
            "linecolor": "white",
            "ticks": ""
           }
          },
          "title": {
           "x": 0.05
          },
          "xaxis": {
           "automargin": true,
           "gridcolor": "white",
           "linecolor": "white",
           "ticks": "",
           "title": {
            "standoff": 15
           },
           "zerolinecolor": "white",
           "zerolinewidth": 2
          },
          "yaxis": {
           "automargin": true,
           "gridcolor": "white",
           "linecolor": "white",
           "ticks": "",
           "title": {
            "standoff": 15
           },
           "zerolinecolor": "white",
           "zerolinewidth": 2
          }
         }
        },
        "title": {
         "font": {
          "size": 16
         },
         "text": "<b>Thống kê xu hướng tăng giảm lượng streams của nước Mỹ so với các quốc gia khác | 14 ngày đầu</b>"
        },
        "xaxis": {
         "gridcolor": "gray",
         "gridwidth": 1,
         "showgrid": true
        },
        "yaxis": {
         "gridcolor": "gray",
         "gridwidth": 1,
         "showgrid": true
        }
       }
      }
     },
     "metadata": {},
     "output_type": "display_data"
    },
    {
     "data": {
      "application/vnd.plotly.v1+json": {
       "config": {
        "plotlyServerURL": "https://plot.ly"
       },
       "data": [
        {
         "line": {
          "color": "blue",
          "width": 2
         },
         "marker": {
          "symbol": "circle"
         },
         "mode": "markers+lines",
         "name": "US_Streams",
         "type": "scatter",
         "x": [
          "2017-12-27T00:00:00",
          "2017-12-28T00:00:00",
          "2017-12-29T00:00:00",
          "2017-12-30T00:00:00",
          "2017-12-31T00:00:00",
          "2018-01-01T00:00:00",
          "2018-01-02T00:00:00",
          "2018-01-03T00:00:00",
          "2018-01-04T00:00:00",
          "2018-01-05T00:00:00",
          "2018-01-06T00:00:00",
          "2018-01-07T00:00:00",
          "2018-01-08T00:00:00",
          "2018-01-09T00:00:00"
         ],
         "y": [
          0.16082155087659922,
          0.1700284888988175,
          0.16877763194191414,
          0.10796664085349351,
          0.17540529101067215,
          0.13299800561294098,
          0.0899504063297707,
          0.21584187726191806,
          0.18823310025950815,
          0.35458845003776707,
          0.23188136192236936,
          0.07042767206492521,
          0.2805503345772813,
          0.3735691623802863
         ]
        },
        {
         "line": {
          "color": "orange",
          "width": 2
         },
         "marker": {
          "size": 8,
          "symbol": "square"
         },
         "mode": "markers+lines",
         "name": "Other countries's Streams",
         "type": "scatter",
         "x": [
          "2017-12-27T00:00:00",
          "2017-12-28T00:00:00",
          "2017-12-29T00:00:00",
          "2017-12-30T00:00:00",
          "2017-12-31T00:00:00",
          "2018-01-01T00:00:00",
          "2018-01-02T00:00:00",
          "2018-01-03T00:00:00",
          "2018-01-04T00:00:00",
          "2018-01-05T00:00:00",
          "2018-01-06T00:00:00",
          "2018-01-07T00:00:00",
          "2018-01-08T00:00:00",
          "2018-01-09T00:00:00"
         ],
         "y": [
          0.10379181844441061,
          0.14602751399900993,
          0.19830132164478156,
          0.18011316319273535,
          0.6066784538195231,
          0,
          0.08817872806302049,
          0.1371960396858393,
          0.15473871679095202,
          0.2568840864369859,
          0.1894424631502618,
          0.03802203611344352,
          0.17114401788971964,
          0.21746078032710575
         ]
        }
       ],
       "layout": {
        "legend": {
         "orientation": "h"
        },
        "plot_bgcolor": "lightgray",
        "showlegend": true,
        "template": {
         "data": {
          "bar": [
           {
            "error_x": {
             "color": "#2a3f5f"
            },
            "error_y": {
             "color": "#2a3f5f"
            },
            "marker": {
             "line": {
              "color": "#E5ECF6",
              "width": 0.5
             },
             "pattern": {
              "fillmode": "overlay",
              "size": 10,
              "solidity": 0.2
             }
            },
            "type": "bar"
           }
          ],
          "barpolar": [
           {
            "marker": {
             "line": {
              "color": "#E5ECF6",
              "width": 0.5
             },
             "pattern": {
              "fillmode": "overlay",
              "size": 10,
              "solidity": 0.2
             }
            },
            "type": "barpolar"
           }
          ],
          "carpet": [
           {
            "aaxis": {
             "endlinecolor": "#2a3f5f",
             "gridcolor": "white",
             "linecolor": "white",
             "minorgridcolor": "white",
             "startlinecolor": "#2a3f5f"
            },
            "baxis": {
             "endlinecolor": "#2a3f5f",
             "gridcolor": "white",
             "linecolor": "white",
             "minorgridcolor": "white",
             "startlinecolor": "#2a3f5f"
            },
            "type": "carpet"
           }
          ],
          "choropleth": [
           {
            "colorbar": {
             "outlinewidth": 0,
             "ticks": ""
            },
            "type": "choropleth"
           }
          ],
          "contour": [
           {
            "colorbar": {
             "outlinewidth": 0,
             "ticks": ""
            },
            "colorscale": [
             [
              0,
              "#0d0887"
             ],
             [
              0.1111111111111111,
              "#46039f"
             ],
             [
              0.2222222222222222,
              "#7201a8"
             ],
             [
              0.3333333333333333,
              "#9c179e"
             ],
             [
              0.4444444444444444,
              "#bd3786"
             ],
             [
              0.5555555555555556,
              "#d8576b"
             ],
             [
              0.6666666666666666,
              "#ed7953"
             ],
             [
              0.7777777777777778,
              "#fb9f3a"
             ],
             [
              0.8888888888888888,
              "#fdca26"
             ],
             [
              1,
              "#f0f921"
             ]
            ],
            "type": "contour"
           }
          ],
          "contourcarpet": [
           {
            "colorbar": {
             "outlinewidth": 0,
             "ticks": ""
            },
            "type": "contourcarpet"
           }
          ],
          "heatmap": [
           {
            "colorbar": {
             "outlinewidth": 0,
             "ticks": ""
            },
            "colorscale": [
             [
              0,
              "#0d0887"
             ],
             [
              0.1111111111111111,
              "#46039f"
             ],
             [
              0.2222222222222222,
              "#7201a8"
             ],
             [
              0.3333333333333333,
              "#9c179e"
             ],
             [
              0.4444444444444444,
              "#bd3786"
             ],
             [
              0.5555555555555556,
              "#d8576b"
             ],
             [
              0.6666666666666666,
              "#ed7953"
             ],
             [
              0.7777777777777778,
              "#fb9f3a"
             ],
             [
              0.8888888888888888,
              "#fdca26"
             ],
             [
              1,
              "#f0f921"
             ]
            ],
            "type": "heatmap"
           }
          ],
          "heatmapgl": [
           {
            "colorbar": {
             "outlinewidth": 0,
             "ticks": ""
            },
            "colorscale": [
             [
              0,
              "#0d0887"
             ],
             [
              0.1111111111111111,
              "#46039f"
             ],
             [
              0.2222222222222222,
              "#7201a8"
             ],
             [
              0.3333333333333333,
              "#9c179e"
             ],
             [
              0.4444444444444444,
              "#bd3786"
             ],
             [
              0.5555555555555556,
              "#d8576b"
             ],
             [
              0.6666666666666666,
              "#ed7953"
             ],
             [
              0.7777777777777778,
              "#fb9f3a"
             ],
             [
              0.8888888888888888,
              "#fdca26"
             ],
             [
              1,
              "#f0f921"
             ]
            ],
            "type": "heatmapgl"
           }
          ],
          "histogram": [
           {
            "marker": {
             "pattern": {
              "fillmode": "overlay",
              "size": 10,
              "solidity": 0.2
             }
            },
            "type": "histogram"
           }
          ],
          "histogram2d": [
           {
            "colorbar": {
             "outlinewidth": 0,
             "ticks": ""
            },
            "colorscale": [
             [
              0,
              "#0d0887"
             ],
             [
              0.1111111111111111,
              "#46039f"
             ],
             [
              0.2222222222222222,
              "#7201a8"
             ],
             [
              0.3333333333333333,
              "#9c179e"
             ],
             [
              0.4444444444444444,
              "#bd3786"
             ],
             [
              0.5555555555555556,
              "#d8576b"
             ],
             [
              0.6666666666666666,
              "#ed7953"
             ],
             [
              0.7777777777777778,
              "#fb9f3a"
             ],
             [
              0.8888888888888888,
              "#fdca26"
             ],
             [
              1,
              "#f0f921"
             ]
            ],
            "type": "histogram2d"
           }
          ],
          "histogram2dcontour": [
           {
            "colorbar": {
             "outlinewidth": 0,
             "ticks": ""
            },
            "colorscale": [
             [
              0,
              "#0d0887"
             ],
             [
              0.1111111111111111,
              "#46039f"
             ],
             [
              0.2222222222222222,
              "#7201a8"
             ],
             [
              0.3333333333333333,
              "#9c179e"
             ],
             [
              0.4444444444444444,
              "#bd3786"
             ],
             [
              0.5555555555555556,
              "#d8576b"
             ],
             [
              0.6666666666666666,
              "#ed7953"
             ],
             [
              0.7777777777777778,
              "#fb9f3a"
             ],
             [
              0.8888888888888888,
              "#fdca26"
             ],
             [
              1,
              "#f0f921"
             ]
            ],
            "type": "histogram2dcontour"
           }
          ],
          "mesh3d": [
           {
            "colorbar": {
             "outlinewidth": 0,
             "ticks": ""
            },
            "type": "mesh3d"
           }
          ],
          "parcoords": [
           {
            "line": {
             "colorbar": {
              "outlinewidth": 0,
              "ticks": ""
             }
            },
            "type": "parcoords"
           }
          ],
          "pie": [
           {
            "automargin": true,
            "type": "pie"
           }
          ],
          "scatter": [
           {
            "fillpattern": {
             "fillmode": "overlay",
             "size": 10,
             "solidity": 0.2
            },
            "type": "scatter"
           }
          ],
          "scatter3d": [
           {
            "line": {
             "colorbar": {
              "outlinewidth": 0,
              "ticks": ""
             }
            },
            "marker": {
             "colorbar": {
              "outlinewidth": 0,
              "ticks": ""
             }
            },
            "type": "scatter3d"
           }
          ],
          "scattercarpet": [
           {
            "marker": {
             "colorbar": {
              "outlinewidth": 0,
              "ticks": ""
             }
            },
            "type": "scattercarpet"
           }
          ],
          "scattergeo": [
           {
            "marker": {
             "colorbar": {
              "outlinewidth": 0,
              "ticks": ""
             }
            },
            "type": "scattergeo"
           }
          ],
          "scattergl": [
           {
            "marker": {
             "colorbar": {
              "outlinewidth": 0,
              "ticks": ""
             }
            },
            "type": "scattergl"
           }
          ],
          "scattermapbox": [
           {
            "marker": {
             "colorbar": {
              "outlinewidth": 0,
              "ticks": ""
             }
            },
            "type": "scattermapbox"
           }
          ],
          "scatterpolar": [
           {
            "marker": {
             "colorbar": {
              "outlinewidth": 0,
              "ticks": ""
             }
            },
            "type": "scatterpolar"
           }
          ],
          "scatterpolargl": [
           {
            "marker": {
             "colorbar": {
              "outlinewidth": 0,
              "ticks": ""
             }
            },
            "type": "scatterpolargl"
           }
          ],
          "scatterternary": [
           {
            "marker": {
             "colorbar": {
              "outlinewidth": 0,
              "ticks": ""
             }
            },
            "type": "scatterternary"
           }
          ],
          "surface": [
           {
            "colorbar": {
             "outlinewidth": 0,
             "ticks": ""
            },
            "colorscale": [
             [
              0,
              "#0d0887"
             ],
             [
              0.1111111111111111,
              "#46039f"
             ],
             [
              0.2222222222222222,
              "#7201a8"
             ],
             [
              0.3333333333333333,
              "#9c179e"
             ],
             [
              0.4444444444444444,
              "#bd3786"
             ],
             [
              0.5555555555555556,
              "#d8576b"
             ],
             [
              0.6666666666666666,
              "#ed7953"
             ],
             [
              0.7777777777777778,
              "#fb9f3a"
             ],
             [
              0.8888888888888888,
              "#fdca26"
             ],
             [
              1,
              "#f0f921"
             ]
            ],
            "type": "surface"
           }
          ],
          "table": [
           {
            "cells": {
             "fill": {
              "color": "#EBF0F8"
             },
             "line": {
              "color": "white"
             }
            },
            "header": {
             "fill": {
              "color": "#C8D4E3"
             },
             "line": {
              "color": "white"
             }
            },
            "type": "table"
           }
          ]
         },
         "layout": {
          "annotationdefaults": {
           "arrowcolor": "#2a3f5f",
           "arrowhead": 0,
           "arrowwidth": 1
          },
          "autotypenumbers": "strict",
          "coloraxis": {
           "colorbar": {
            "outlinewidth": 0,
            "ticks": ""
           }
          },
          "colorscale": {
           "diverging": [
            [
             0,
             "#8e0152"
            ],
            [
             0.1,
             "#c51b7d"
            ],
            [
             0.2,
             "#de77ae"
            ],
            [
             0.3,
             "#f1b6da"
            ],
            [
             0.4,
             "#fde0ef"
            ],
            [
             0.5,
             "#f7f7f7"
            ],
            [
             0.6,
             "#e6f5d0"
            ],
            [
             0.7,
             "#b8e186"
            ],
            [
             0.8,
             "#7fbc41"
            ],
            [
             0.9,
             "#4d9221"
            ],
            [
             1,
             "#276419"
            ]
           ],
           "sequential": [
            [
             0,
             "#0d0887"
            ],
            [
             0.1111111111111111,
             "#46039f"
            ],
            [
             0.2222222222222222,
             "#7201a8"
            ],
            [
             0.3333333333333333,
             "#9c179e"
            ],
            [
             0.4444444444444444,
             "#bd3786"
            ],
            [
             0.5555555555555556,
             "#d8576b"
            ],
            [
             0.6666666666666666,
             "#ed7953"
            ],
            [
             0.7777777777777778,
             "#fb9f3a"
            ],
            [
             0.8888888888888888,
             "#fdca26"
            ],
            [
             1,
             "#f0f921"
            ]
           ],
           "sequentialminus": [
            [
             0,
             "#0d0887"
            ],
            [
             0.1111111111111111,
             "#46039f"
            ],
            [
             0.2222222222222222,
             "#7201a8"
            ],
            [
             0.3333333333333333,
             "#9c179e"
            ],
            [
             0.4444444444444444,
             "#bd3786"
            ],
            [
             0.5555555555555556,
             "#d8576b"
            ],
            [
             0.6666666666666666,
             "#ed7953"
            ],
            [
             0.7777777777777778,
             "#fb9f3a"
            ],
            [
             0.8888888888888888,
             "#fdca26"
            ],
            [
             1,
             "#f0f921"
            ]
           ]
          },
          "colorway": [
           "#636efa",
           "#EF553B",
           "#00cc96",
           "#ab63fa",
           "#FFA15A",
           "#19d3f3",
           "#FF6692",
           "#B6E880",
           "#FF97FF",
           "#FECB52"
          ],
          "font": {
           "color": "#2a3f5f"
          },
          "geo": {
           "bgcolor": "white",
           "lakecolor": "white",
           "landcolor": "#E5ECF6",
           "showlakes": true,
           "showland": true,
           "subunitcolor": "white"
          },
          "hoverlabel": {
           "align": "left"
          },
          "hovermode": "closest",
          "mapbox": {
           "style": "light"
          },
          "paper_bgcolor": "white",
          "plot_bgcolor": "#E5ECF6",
          "polar": {
           "angularaxis": {
            "gridcolor": "white",
            "linecolor": "white",
            "ticks": ""
           },
           "bgcolor": "#E5ECF6",
           "radialaxis": {
            "gridcolor": "white",
            "linecolor": "white",
            "ticks": ""
           }
          },
          "scene": {
           "xaxis": {
            "backgroundcolor": "#E5ECF6",
            "gridcolor": "white",
            "gridwidth": 2,
            "linecolor": "white",
            "showbackground": true,
            "ticks": "",
            "zerolinecolor": "white"
           },
           "yaxis": {
            "backgroundcolor": "#E5ECF6",
            "gridcolor": "white",
            "gridwidth": 2,
            "linecolor": "white",
            "showbackground": true,
            "ticks": "",
            "zerolinecolor": "white"
           },
           "zaxis": {
            "backgroundcolor": "#E5ECF6",
            "gridcolor": "white",
            "gridwidth": 2,
            "linecolor": "white",
            "showbackground": true,
            "ticks": "",
            "zerolinecolor": "white"
           }
          },
          "shapedefaults": {
           "line": {
            "color": "#2a3f5f"
           }
          },
          "ternary": {
           "aaxis": {
            "gridcolor": "white",
            "linecolor": "white",
            "ticks": ""
           },
           "baxis": {
            "gridcolor": "white",
            "linecolor": "white",
            "ticks": ""
           },
           "bgcolor": "#E5ECF6",
           "caxis": {
            "gridcolor": "white",
            "linecolor": "white",
            "ticks": ""
           }
          },
          "title": {
           "x": 0.05
          },
          "xaxis": {
           "automargin": true,
           "gridcolor": "white",
           "linecolor": "white",
           "ticks": "",
           "title": {
            "standoff": 15
           },
           "zerolinecolor": "white",
           "zerolinewidth": 2
          },
          "yaxis": {
           "automargin": true,
           "gridcolor": "white",
           "linecolor": "white",
           "ticks": "",
           "title": {
            "standoff": 15
           },
           "zerolinecolor": "white",
           "zerolinewidth": 2
          }
         }
        },
        "title": {
         "font": {
          "size": 16
         },
         "text": "<b>Thống kê xu hướng tăng giảm lượng streams của nước Mỹ so với các quốc gia khác | 14 ngày sau</b>"
        },
        "xaxis": {
         "gridcolor": "gray",
         "gridwidth": 1,
         "showgrid": true
        },
        "yaxis": {
         "gridcolor": "gray",
         "gridwidth": 1,
         "showgrid": true
        }
       }
      }
     },
     "metadata": {},
     "output_type": "display_data"
    }
   ],
   "source": [
    "# Chia dữ liệu thành 2 phần: 14 ngày đầu và 14 ngày sau\n",
    "df_first_half = normalized_merged_grouped_by_date_df[:14]\n",
    "df_second_half = normalized_merged_grouped_by_date_df[14:]\n",
    "\n",
    "# Tạo biểu đồ cho 14 ngày đầu\n",
    "fig_first_half = go.Figure()\n",
    "fig_first_half.add_trace(go.Scatter(x=df_first_half['Date'], y=df_first_half['US_Streams'], name=\"US_Streams\", mode='markers+lines', line=dict(color='blue', width=2), marker=dict(symbol='circle')))\n",
    "fig_first_half.add_trace(go.Scatter(x=df_first_half['Date'], y=df_first_half['Streams'], name=\"Other countries's Streams\", mode='markers+lines', line=dict(color='orange', width=2), marker=dict(symbol='square', size=8)))\n",
    "fig_first_half.update_layout(title={'text': \"<b>Thống kê xu hướng tăng giảm lượng streams của nước Mỹ so với các quốc gia khác | 14 ngày đầu</b>\", 'font': {'size': 16}}, plot_bgcolor='lightgray', showlegend=True, legend=dict(orientation=\"h\"))\n",
    "fig_first_half.update_xaxes(showgrid=True, gridwidth=1, gridcolor='gray')\n",
    "fig_first_half.update_yaxes(showgrid=True, gridwidth=1, gridcolor='gray')\n",
    "\n",
    "# Tạo biểu đồ cho 14 ngày sau\n",
    "fig_second_half = go.Figure()\n",
    "fig_second_half.add_trace(go.Scatter(x=df_second_half['Date'], y=df_second_half['US_Streams'], name=\"US_Streams\", mode='markers+lines', line=dict(color='blue', width=2), marker=dict(symbol='circle')))\n",
    "fig_second_half.add_trace(go.Scatter(x=df_second_half['Date'], y=df_second_half['Streams'], name=\"Other countries's Streams\", mode='markers+lines', line=dict(color='orange', width=2), marker=dict(symbol='square', size=8)))\n",
    "fig_second_half.update_layout(title={'text': \"<b>Thống kê xu hướng tăng giảm lượng streams của nước Mỹ so với các quốc gia khác | 14 ngày sau</b>\", 'font': {'size': 16}}, plot_bgcolor='lightgray', showlegend=True, legend=dict(orientation=\"h\"))\n",
    "fig_second_half.update_xaxes(showgrid=True, gridwidth=1, gridcolor='gray')\n",
    "fig_second_half.update_yaxes(showgrid=True, gridwidth=1, gridcolor='gray')\n",
    "# Hiển thị biểu đồ\n",
    "fig_first_half.show()\n",
    "fig_second_half.show()"
   ]
  },
  {
   "attachments": {},
   "cell_type": "markdown",
   "metadata": {},
   "source": [
    "# Phân tích kết quả biểu đồ: \n",
    "- Từ biểu đồ ta thấy được hầu hết có sự tương đồng trong xu hướng lượt streams theo từng ngày ở quốc gia Mỹ so với các quốc gia khác.\n",
    "- Tuy nhiên phần lớn tuy cùng tăng, cùng giảm nhưng có những ngày tỉ lệ tăng so với ngày trước ở Mỹ và các quốc gia khác khác nhau đáng kể.\n",
    "- Ví dụ ngày 31/12 các quốc gia khác tăng vọt nhưng ở Mỹ chỉ tăng nhẹ.\n",
    "- Ở các quốc gia khác, có quãng thời gian dài giữa tháng từ ngày 17/12 đến ngày 25/12 lượng streams có xu hướng tăng vọt và đạt đỉnh ( chỉ giảm ở 1 ngày 23 ).\n",
    "- Ở Mỹ, quãng thời gian tăng vọt liên tục và đạt đỉnh kéo dài từ ngày 17/12 đến ngày 24/12.\n",
    "- Ở cả Mỹ và các quốc gia khác, lượng streams đều tuột trầm trọng trong ngày 26/12."
   ]
  },
  {
   "attachments": {},
   "cell_type": "markdown",
   "metadata": {},
   "source": [
    "# **Biểu đồ Scatter Plot**"
   ]
  },
  {
   "attachments": {},
   "cell_type": "markdown",
   "metadata": {},
   "source": [
    "### Mục tiêu: \n",
    "- Trực quan xu hướng nghe nhạc của Mỹ và các quốc gia khác theo các thứ trong tuần trong 8 tuần gần nhất.\n",
    "### Tiền xử lý dữ liệu: \n",
    "- Tính tổng lượt streams theo từng ngày.\n",
    "- Thêm vào cột 'DayOfWeek' là thứ trong tuần tương ứng với ngày đó.\n",
    "- Lọc ra dữ liệu với thời gian 8 tuần gần nhất\n",
    "- Tính tổng lượng streams theo từng thứ.\n",
    "- Loại bỏ thuộc tính 'Artist', 'Date', 'Region'.\n",
    "- Chuẩn hóa lượt streams của Mỹ và các quốc gia khác.\n",
    "### Các trường dữ liệu tương tác: \n",
    "- DayOfWeek, Streams, US_Streams.\n",
    "\n",
    "Trong đó US_Streams là tổng lượng streams theo từng bài hát.  \n",
    "### Mục tiêu khi chọn Scatter Plot để trực quan:\n",
    "- Scatter Plot tiện trong việc xem được phân bổ của dữ liệu.\n",
    "- Từ việc phân bổ chúng ta có thể xem được xu hướng của tập dữ liệu đó.\n",
    "\n",
    "### Màu sắc dùng để trực quan: \n",
    "- Xanh dương kết hợp đỏ.\n",
    "- Giải thích: Việc sử dụng màu sắc như thế này sẽ tạo ra sự tương phản cao giúp chúng ta dễ dàng quan sát lượng streams của Mỹ và của các quốc gia khác. \n",
    "\n",
    "### Các kỹ thuật sử dụng thêm:\n",
    "- Reduce: Giảm đi một số thuộc tính như 'Artist', 'Region', 'Date'.\n",
    "- Manipulate: Sử dụng kỹ thuật Segmantic Zoom giúp chúng ta quan sát rõ hơn dữ liệu được biểu diễn trong 1 vùng gần xem cụ thể.\n",
    "\n"
   ]
  },
  {
   "cell_type": "code",
   "execution_count": 22,
   "metadata": {},
   "outputs": [],
   "source": [
    "normalized_merged_grouped_by_date_df['DayOfWeek'] = normalized_merged_grouped_by_date_df['Date'].dt.day_name()\n",
    "normalized_merged_grouped_by_date_df = normalized_merged_grouped_by_date_df.reindex(columns=['Date', 'DayOfWeek', 'Streams', 'US_Streams'])"
   ]
  },
  {
   "cell_type": "code",
   "execution_count": 23,
   "metadata": {},
   "outputs": [
    {
     "data": {
      "text/html": [
       "<div>\n",
       "<style scoped>\n",
       "    .dataframe tbody tr th:only-of-type {\n",
       "        vertical-align: middle;\n",
       "    }\n",
       "\n",
       "    .dataframe tbody tr th {\n",
       "        vertical-align: top;\n",
       "    }\n",
       "\n",
       "    .dataframe thead th {\n",
       "        text-align: right;\n",
       "    }\n",
       "</style>\n",
       "<table border=\"1\" class=\"dataframe\">\n",
       "  <thead>\n",
       "    <tr style=\"text-align: right;\">\n",
       "      <th></th>\n",
       "      <th>Date</th>\n",
       "      <th>DayOfWeek</th>\n",
       "      <th>Streams</th>\n",
       "      <th>US_Streams</th>\n",
       "    </tr>\n",
       "  </thead>\n",
       "  <tbody>\n",
       "    <tr>\n",
       "      <th>0</th>\n",
       "      <td>2017-12-13</td>\n",
       "      <td>Wednesday</td>\n",
       "      <td>0.232804</td>\n",
       "      <td>0.417095</td>\n",
       "    </tr>\n",
       "    <tr>\n",
       "      <th>1</th>\n",
       "      <td>2017-12-14</td>\n",
       "      <td>Thursday</td>\n",
       "      <td>0.248170</td>\n",
       "      <td>0.428772</td>\n",
       "    </tr>\n",
       "    <tr>\n",
       "      <th>2</th>\n",
       "      <td>2017-12-15</td>\n",
       "      <td>Friday</td>\n",
       "      <td>0.455502</td>\n",
       "      <td>0.657370</td>\n",
       "    </tr>\n",
       "    <tr>\n",
       "      <th>3</th>\n",
       "      <td>2017-12-16</td>\n",
       "      <td>Saturday</td>\n",
       "      <td>0.416581</td>\n",
       "      <td>0.511701</td>\n",
       "    </tr>\n",
       "    <tr>\n",
       "      <th>4</th>\n",
       "      <td>2017-12-17</td>\n",
       "      <td>Sunday</td>\n",
       "      <td>0.185348</td>\n",
       "      <td>0.217371</td>\n",
       "    </tr>\n",
       "    <tr>\n",
       "      <th>5</th>\n",
       "      <td>2017-12-18</td>\n",
       "      <td>Monday</td>\n",
       "      <td>0.248184</td>\n",
       "      <td>0.380006</td>\n",
       "    </tr>\n",
       "    <tr>\n",
       "      <th>6</th>\n",
       "      <td>2017-12-19</td>\n",
       "      <td>Tuesday</td>\n",
       "      <td>0.308129</td>\n",
       "      <td>0.446865</td>\n",
       "    </tr>\n",
       "    <tr>\n",
       "      <th>7</th>\n",
       "      <td>2017-12-20</td>\n",
       "      <td>Wednesday</td>\n",
       "      <td>0.355819</td>\n",
       "      <td>0.454612</td>\n",
       "    </tr>\n",
       "    <tr>\n",
       "      <th>8</th>\n",
       "      <td>2017-12-21</td>\n",
       "      <td>Thursday</td>\n",
       "      <td>0.402572</td>\n",
       "      <td>0.469606</td>\n",
       "    </tr>\n",
       "    <tr>\n",
       "      <th>9</th>\n",
       "      <td>2017-12-22</td>\n",
       "      <td>Friday</td>\n",
       "      <td>0.540493</td>\n",
       "      <td>0.809447</td>\n",
       "    </tr>\n",
       "    <tr>\n",
       "      <th>10</th>\n",
       "      <td>2017-12-23</td>\n",
       "      <td>Saturday</td>\n",
       "      <td>0.553151</td>\n",
       "      <td>0.613664</td>\n",
       "    </tr>\n",
       "    <tr>\n",
       "      <th>11</th>\n",
       "      <td>2017-12-24</td>\n",
       "      <td>Sunday</td>\n",
       "      <td>1.000000</td>\n",
       "      <td>0.725838</td>\n",
       "    </tr>\n",
       "    <tr>\n",
       "      <th>12</th>\n",
       "      <td>2017-12-25</td>\n",
       "      <td>Monday</td>\n",
       "      <td>0.594736</td>\n",
       "      <td>1.000000</td>\n",
       "    </tr>\n",
       "    <tr>\n",
       "      <th>13</th>\n",
       "      <td>2017-12-26</td>\n",
       "      <td>Tuesday</td>\n",
       "      <td>0.025112</td>\n",
       "      <td>0.000000</td>\n",
       "    </tr>\n",
       "    <tr>\n",
       "      <th>14</th>\n",
       "      <td>2017-12-27</td>\n",
       "      <td>Wednesday</td>\n",
       "      <td>0.103792</td>\n",
       "      <td>0.160822</td>\n",
       "    </tr>\n",
       "    <tr>\n",
       "      <th>15</th>\n",
       "      <td>2017-12-28</td>\n",
       "      <td>Thursday</td>\n",
       "      <td>0.146028</td>\n",
       "      <td>0.170028</td>\n",
       "    </tr>\n",
       "    <tr>\n",
       "      <th>16</th>\n",
       "      <td>2017-12-29</td>\n",
       "      <td>Friday</td>\n",
       "      <td>0.198301</td>\n",
       "      <td>0.168778</td>\n",
       "    </tr>\n",
       "    <tr>\n",
       "      <th>17</th>\n",
       "      <td>2017-12-30</td>\n",
       "      <td>Saturday</td>\n",
       "      <td>0.180113</td>\n",
       "      <td>0.107967</td>\n",
       "    </tr>\n",
       "    <tr>\n",
       "      <th>18</th>\n",
       "      <td>2017-12-31</td>\n",
       "      <td>Sunday</td>\n",
       "      <td>0.606678</td>\n",
       "      <td>0.175405</td>\n",
       "    </tr>\n",
       "    <tr>\n",
       "      <th>19</th>\n",
       "      <td>2018-01-01</td>\n",
       "      <td>Monday</td>\n",
       "      <td>0.000000</td>\n",
       "      <td>0.132998</td>\n",
       "    </tr>\n",
       "    <tr>\n",
       "      <th>20</th>\n",
       "      <td>2018-01-02</td>\n",
       "      <td>Tuesday</td>\n",
       "      <td>0.088179</td>\n",
       "      <td>0.089950</td>\n",
       "    </tr>\n",
       "    <tr>\n",
       "      <th>21</th>\n",
       "      <td>2018-01-03</td>\n",
       "      <td>Wednesday</td>\n",
       "      <td>0.137196</td>\n",
       "      <td>0.215842</td>\n",
       "    </tr>\n",
       "    <tr>\n",
       "      <th>22</th>\n",
       "      <td>2018-01-04</td>\n",
       "      <td>Thursday</td>\n",
       "      <td>0.154739</td>\n",
       "      <td>0.188233</td>\n",
       "    </tr>\n",
       "    <tr>\n",
       "      <th>23</th>\n",
       "      <td>2018-01-05</td>\n",
       "      <td>Friday</td>\n",
       "      <td>0.256884</td>\n",
       "      <td>0.354588</td>\n",
       "    </tr>\n",
       "    <tr>\n",
       "      <th>24</th>\n",
       "      <td>2018-01-06</td>\n",
       "      <td>Saturday</td>\n",
       "      <td>0.189442</td>\n",
       "      <td>0.231881</td>\n",
       "    </tr>\n",
       "    <tr>\n",
       "      <th>25</th>\n",
       "      <td>2018-01-07</td>\n",
       "      <td>Sunday</td>\n",
       "      <td>0.038022</td>\n",
       "      <td>0.070428</td>\n",
       "    </tr>\n",
       "    <tr>\n",
       "      <th>26</th>\n",
       "      <td>2018-01-08</td>\n",
       "      <td>Monday</td>\n",
       "      <td>0.171144</td>\n",
       "      <td>0.280550</td>\n",
       "    </tr>\n",
       "    <tr>\n",
       "      <th>27</th>\n",
       "      <td>2018-01-09</td>\n",
       "      <td>Tuesday</td>\n",
       "      <td>0.217461</td>\n",
       "      <td>0.373569</td>\n",
       "    </tr>\n",
       "  </tbody>\n",
       "</table>\n",
       "</div>"
      ],
      "text/plain": [
       "         Date  DayOfWeek   Streams  US_Streams\n",
       "0  2017-12-13  Wednesday  0.232804    0.417095\n",
       "1  2017-12-14   Thursday  0.248170    0.428772\n",
       "2  2017-12-15     Friday  0.455502    0.657370\n",
       "3  2017-12-16   Saturday  0.416581    0.511701\n",
       "4  2017-12-17     Sunday  0.185348    0.217371\n",
       "5  2017-12-18     Monday  0.248184    0.380006\n",
       "6  2017-12-19    Tuesday  0.308129    0.446865\n",
       "7  2017-12-20  Wednesday  0.355819    0.454612\n",
       "8  2017-12-21   Thursday  0.402572    0.469606\n",
       "9  2017-12-22     Friday  0.540493    0.809447\n",
       "10 2017-12-23   Saturday  0.553151    0.613664\n",
       "11 2017-12-24     Sunday  1.000000    0.725838\n",
       "12 2017-12-25     Monday  0.594736    1.000000\n",
       "13 2017-12-26    Tuesday  0.025112    0.000000\n",
       "14 2017-12-27  Wednesday  0.103792    0.160822\n",
       "15 2017-12-28   Thursday  0.146028    0.170028\n",
       "16 2017-12-29     Friday  0.198301    0.168778\n",
       "17 2017-12-30   Saturday  0.180113    0.107967\n",
       "18 2017-12-31     Sunday  0.606678    0.175405\n",
       "19 2018-01-01     Monday  0.000000    0.132998\n",
       "20 2018-01-02    Tuesday  0.088179    0.089950\n",
       "21 2018-01-03  Wednesday  0.137196    0.215842\n",
       "22 2018-01-04   Thursday  0.154739    0.188233\n",
       "23 2018-01-05     Friday  0.256884    0.354588\n",
       "24 2018-01-06   Saturday  0.189442    0.231881\n",
       "25 2018-01-07     Sunday  0.038022    0.070428\n",
       "26 2018-01-08     Monday  0.171144    0.280550\n",
       "27 2018-01-09    Tuesday  0.217461    0.373569"
      ]
     },
     "execution_count": 23,
     "metadata": {},
     "output_type": "execute_result"
    }
   ],
   "source": [
    "normalized_merged_grouped_by_date_df"
   ]
  },
  {
   "cell_type": "code",
   "execution_count": 24,
   "metadata": {},
   "outputs": [],
   "source": [
    "# Tạo chuỗi ngày gần nhất trong khoảng 8 tuần\n",
    "recent_dates = pd.date_range(end='2018-01-09', periods=56)\n",
    "\n",
    "# Lọc dữ liệu theo chuỗi ngày gần nhất\n",
    "recent_df = df[df['Date'].isin(recent_dates)]\n",
    "recent_df = recent_df[recent_df['Region'] != 'us']\n",
    "recent_usa_df = usa_df[usa_df['Date'].isin(recent_dates)]\n",
    "# Tính tổng số lượng người nghe theo từng ngày\n",
    "grouped_by_date_df = recent_df.groupby(\"Date\")[\"Streams\"].sum().reset_index()\n",
    "grouped_by_date_usa_df = recent_usa_df.groupby(\"Date\")[\"US_Streams\"].sum().reset_index()\n",
    "merged_grouped_by_date_df = pd.merge(grouped_by_date_df, grouped_by_date_usa_df, on='Date')\n",
    "cols = ['Streams','US_Streams']\n",
    "normalized_merged_grouped_by_date_df = (merged_grouped_by_date_df[cols] - merged_grouped_by_date_df[cols].min()) / (merged_grouped_by_date_df[cols].max() - merged_grouped_by_date_df[cols].min())\n",
    "# Gộp kết quả chuẩn hóa với các cột còn lại trong DataFrame\n",
    "normalized_merged_grouped_by_date_df = pd.concat([merged_grouped_by_date_df.drop(cols, axis=1),normalized_merged_grouped_by_date_df], axis=1)\n",
    "#thêm thứ trong tuần ứng với ngày\n",
    "normalized_merged_grouped_by_date_df['DayOfWeek'] = normalized_merged_grouped_by_date_df['Date'].dt.day_name()\n",
    "normalized_merged_grouped_by_date_df = normalized_merged_grouped_by_date_df.reindex(columns=['Date', 'DayOfWeek', 'Streams', 'US_Streams'])"
   ]
  },
  {
   "cell_type": "code",
   "execution_count": 25,
   "metadata": {},
   "outputs": [],
   "source": [
    "#sắp xếp trục x theo ngày\n",
    "normalized_merged_grouped_by_date_df = normalized_merged_grouped_by_date_df.sort_values(by='DayOfWeek', key=lambda x: pd.Categorical(x, categories=['Monday', 'Tuesday', 'Wednesday', 'Thursday', 'Friday'], ordered=True))"
   ]
  },
  {
   "cell_type": "code",
   "execution_count": 26,
   "metadata": {},
   "outputs": [
    {
     "data": {
      "application/vnd.plotly.v1+json": {
       "config": {
        "plotlyServerURL": "https://plot.ly"
       },
       "data": [
        {
         "mode": "markers",
         "name": "Other countries's stream",
         "type": "scatter",
         "x": [
          "Monday",
          "Monday",
          "Monday",
          "Monday",
          "Monday",
          "Monday",
          "Monday",
          "Monday",
          "Tuesday",
          "Tuesday",
          "Tuesday",
          "Tuesday",
          "Tuesday",
          "Tuesday",
          "Tuesday",
          "Tuesday",
          "Wednesday",
          "Wednesday",
          "Wednesday",
          "Wednesday",
          "Wednesday",
          "Wednesday",
          "Wednesday",
          "Wednesday",
          "Thursday",
          "Thursday",
          "Thursday",
          "Thursday",
          "Thursday",
          "Thursday",
          "Thursday",
          "Thursday",
          "Friday",
          "Friday",
          "Friday",
          "Friday",
          "Friday",
          "Friday",
          "Friday",
          "Friday",
          "Saturday",
          "Sunday",
          "Saturday",
          "Sunday",
          "Saturday",
          "Sunday",
          "Saturday",
          "Sunday",
          "Saturday",
          "Sunday",
          "Saturday",
          "Sunday",
          "Saturday",
          "Sunday",
          "Saturday",
          "Sunday"
         ],
         "y": [
          0,
          0.10596119402867617,
          0.5947360528892692,
          0.24818433983227192,
          0.11796035124678239,
          0.17114401788971964,
          0.1616606188928275,
          0.22557503993639164,
          0.21263247492238566,
          0.08817872806302049,
          0.02511182304426448,
          0.30812947686892916,
          0.2721230902925278,
          0.21746078032710575,
          0.17472526300536706,
          0.17630587254240396,
          0.19880987388733984,
          0.28619717820541496,
          0.1371960396858393,
          0.20333823212742158,
          0.23280438183626967,
          0.10379181844441061,
          0.3558189897497169,
          0.2150439469998988,
          0.15473871679095202,
          0.18623803437108655,
          0.14602751399900993,
          0.2155436007156334,
          0.1820068852873897,
          0.24816994069605286,
          0.3087021386730025,
          0.40257174311213034,
          0.44001385022294764,
          0.24109194343202808,
          0.4555015209717824,
          0.19830132164478156,
          0.31039801097964265,
          0.3784689867772564,
          0.2568840864369859,
          0.5404927155700299,
          0.24856887423691956,
          0.038243904955896586,
          0.2432891417708211,
          0.052476432552970374,
          0.38190570768479565,
          0.19717454107456692,
          0.355952418466295,
          0.16369143814326184,
          0.41658124190217666,
          0.18534781689420607,
          0.5531513638838873,
          1,
          0.18011316319273535,
          0.6066784538195231,
          0.1894424631502618,
          0.03802203611344352
         ]
        },
        {
         "mode": "markers",
         "name": "US Streams",
         "type": "scatter",
         "x": [
          "Monday",
          "Monday",
          "Monday",
          "Monday",
          "Monday",
          "Monday",
          "Monday",
          "Monday",
          "Tuesday",
          "Tuesday",
          "Tuesday",
          "Tuesday",
          "Tuesday",
          "Tuesday",
          "Tuesday",
          "Tuesday",
          "Wednesday",
          "Wednesday",
          "Wednesday",
          "Wednesday",
          "Wednesday",
          "Wednesday",
          "Wednesday",
          "Wednesday",
          "Thursday",
          "Thursday",
          "Thursday",
          "Thursday",
          "Thursday",
          "Thursday",
          "Thursday",
          "Thursday",
          "Friday",
          "Friday",
          "Friday",
          "Friday",
          "Friday",
          "Friday",
          "Friday",
          "Friday",
          "Saturday",
          "Sunday",
          "Saturday",
          "Sunday",
          "Saturday",
          "Sunday",
          "Saturday",
          "Sunday",
          "Saturday",
          "Sunday",
          "Saturday",
          "Sunday",
          "Saturday",
          "Sunday",
          "Saturday",
          "Sunday"
         ],
         "y": [
          0.18553830582729952,
          0.28759911626426765,
          1,
          0.41757719702037605,
          0.2802646744618284,
          0.32414896716999275,
          0.3647949575036116,
          0.44195962720656534,
          0.4618831671466156,
          0.14509939003561778,
          0.060599976187485874,
          0.48038472871662824,
          0.48369211640703386,
          0.41153085622314783,
          0.33464621636505054,
          0.4153592106871144,
          0.39919004194279883,
          0.4559883000616235,
          0.2633618408270694,
          0.3644724182696526,
          0.4524190230907011,
          0.21167574491052862,
          0.48766287430106675,
          0.47755561700503757,
          0.2374261550535712,
          0.40125180778282216,
          0.22032474270784083,
          0.37416640327575057,
          0.18247306443655437,
          0.46338880375253294,
          0.5030793305623823,
          0.501748327122508,
          0.5810321170830722,
          0,
          0.6781332669953052,
          0.21914968765273976,
          0.4886453370314285,
          0.5873141038110725,
          0.3937003745966068,
          0.8209944439684226,
          0.3322451917376018,
          0.12144273359438412,
          0.10903785288764224,
          0.13379334377947652,
          0.4625587217626243,
          0.2882291078295099,
          0.46676164864593084,
          0.26292196237610677,
          0.541291975829754,
          0.2647981804772093,
          0.6370762114737497,
          0.74245205887242,
          0.16202384117621485,
          0.22537571073975227,
          0.2784293330990379,
          0.12675973300233656
         ]
        }
       ],
       "layout": {
        "showlegend": true,
        "template": {
         "data": {
          "bar": [
           {
            "error_x": {
             "color": "#2a3f5f"
            },
            "error_y": {
             "color": "#2a3f5f"
            },
            "marker": {
             "line": {
              "color": "#E5ECF6",
              "width": 0.5
             },
             "pattern": {
              "fillmode": "overlay",
              "size": 10,
              "solidity": 0.2
             }
            },
            "type": "bar"
           }
          ],
          "barpolar": [
           {
            "marker": {
             "line": {
              "color": "#E5ECF6",
              "width": 0.5
             },
             "pattern": {
              "fillmode": "overlay",
              "size": 10,
              "solidity": 0.2
             }
            },
            "type": "barpolar"
           }
          ],
          "carpet": [
           {
            "aaxis": {
             "endlinecolor": "#2a3f5f",
             "gridcolor": "white",
             "linecolor": "white",
             "minorgridcolor": "white",
             "startlinecolor": "#2a3f5f"
            },
            "baxis": {
             "endlinecolor": "#2a3f5f",
             "gridcolor": "white",
             "linecolor": "white",
             "minorgridcolor": "white",
             "startlinecolor": "#2a3f5f"
            },
            "type": "carpet"
           }
          ],
          "choropleth": [
           {
            "colorbar": {
             "outlinewidth": 0,
             "ticks": ""
            },
            "type": "choropleth"
           }
          ],
          "contour": [
           {
            "colorbar": {
             "outlinewidth": 0,
             "ticks": ""
            },
            "colorscale": [
             [
              0,
              "#0d0887"
             ],
             [
              0.1111111111111111,
              "#46039f"
             ],
             [
              0.2222222222222222,
              "#7201a8"
             ],
             [
              0.3333333333333333,
              "#9c179e"
             ],
             [
              0.4444444444444444,
              "#bd3786"
             ],
             [
              0.5555555555555556,
              "#d8576b"
             ],
             [
              0.6666666666666666,
              "#ed7953"
             ],
             [
              0.7777777777777778,
              "#fb9f3a"
             ],
             [
              0.8888888888888888,
              "#fdca26"
             ],
             [
              1,
              "#f0f921"
             ]
            ],
            "type": "contour"
           }
          ],
          "contourcarpet": [
           {
            "colorbar": {
             "outlinewidth": 0,
             "ticks": ""
            },
            "type": "contourcarpet"
           }
          ],
          "heatmap": [
           {
            "colorbar": {
             "outlinewidth": 0,
             "ticks": ""
            },
            "colorscale": [
             [
              0,
              "#0d0887"
             ],
             [
              0.1111111111111111,
              "#46039f"
             ],
             [
              0.2222222222222222,
              "#7201a8"
             ],
             [
              0.3333333333333333,
              "#9c179e"
             ],
             [
              0.4444444444444444,
              "#bd3786"
             ],
             [
              0.5555555555555556,
              "#d8576b"
             ],
             [
              0.6666666666666666,
              "#ed7953"
             ],
             [
              0.7777777777777778,
              "#fb9f3a"
             ],
             [
              0.8888888888888888,
              "#fdca26"
             ],
             [
              1,
              "#f0f921"
             ]
            ],
            "type": "heatmap"
           }
          ],
          "heatmapgl": [
           {
            "colorbar": {
             "outlinewidth": 0,
             "ticks": ""
            },
            "colorscale": [
             [
              0,
              "#0d0887"
             ],
             [
              0.1111111111111111,
              "#46039f"
             ],
             [
              0.2222222222222222,
              "#7201a8"
             ],
             [
              0.3333333333333333,
              "#9c179e"
             ],
             [
              0.4444444444444444,
              "#bd3786"
             ],
             [
              0.5555555555555556,
              "#d8576b"
             ],
             [
              0.6666666666666666,
              "#ed7953"
             ],
             [
              0.7777777777777778,
              "#fb9f3a"
             ],
             [
              0.8888888888888888,
              "#fdca26"
             ],
             [
              1,
              "#f0f921"
             ]
            ],
            "type": "heatmapgl"
           }
          ],
          "histogram": [
           {
            "marker": {
             "pattern": {
              "fillmode": "overlay",
              "size": 10,
              "solidity": 0.2
             }
            },
            "type": "histogram"
           }
          ],
          "histogram2d": [
           {
            "colorbar": {
             "outlinewidth": 0,
             "ticks": ""
            },
            "colorscale": [
             [
              0,
              "#0d0887"
             ],
             [
              0.1111111111111111,
              "#46039f"
             ],
             [
              0.2222222222222222,
              "#7201a8"
             ],
             [
              0.3333333333333333,
              "#9c179e"
             ],
             [
              0.4444444444444444,
              "#bd3786"
             ],
             [
              0.5555555555555556,
              "#d8576b"
             ],
             [
              0.6666666666666666,
              "#ed7953"
             ],
             [
              0.7777777777777778,
              "#fb9f3a"
             ],
             [
              0.8888888888888888,
              "#fdca26"
             ],
             [
              1,
              "#f0f921"
             ]
            ],
            "type": "histogram2d"
           }
          ],
          "histogram2dcontour": [
           {
            "colorbar": {
             "outlinewidth": 0,
             "ticks": ""
            },
            "colorscale": [
             [
              0,
              "#0d0887"
             ],
             [
              0.1111111111111111,
              "#46039f"
             ],
             [
              0.2222222222222222,
              "#7201a8"
             ],
             [
              0.3333333333333333,
              "#9c179e"
             ],
             [
              0.4444444444444444,
              "#bd3786"
             ],
             [
              0.5555555555555556,
              "#d8576b"
             ],
             [
              0.6666666666666666,
              "#ed7953"
             ],
             [
              0.7777777777777778,
              "#fb9f3a"
             ],
             [
              0.8888888888888888,
              "#fdca26"
             ],
             [
              1,
              "#f0f921"
             ]
            ],
            "type": "histogram2dcontour"
           }
          ],
          "mesh3d": [
           {
            "colorbar": {
             "outlinewidth": 0,
             "ticks": ""
            },
            "type": "mesh3d"
           }
          ],
          "parcoords": [
           {
            "line": {
             "colorbar": {
              "outlinewidth": 0,
              "ticks": ""
             }
            },
            "type": "parcoords"
           }
          ],
          "pie": [
           {
            "automargin": true,
            "type": "pie"
           }
          ],
          "scatter": [
           {
            "fillpattern": {
             "fillmode": "overlay",
             "size": 10,
             "solidity": 0.2
            },
            "type": "scatter"
           }
          ],
          "scatter3d": [
           {
            "line": {
             "colorbar": {
              "outlinewidth": 0,
              "ticks": ""
             }
            },
            "marker": {
             "colorbar": {
              "outlinewidth": 0,
              "ticks": ""
             }
            },
            "type": "scatter3d"
           }
          ],
          "scattercarpet": [
           {
            "marker": {
             "colorbar": {
              "outlinewidth": 0,
              "ticks": ""
             }
            },
            "type": "scattercarpet"
           }
          ],
          "scattergeo": [
           {
            "marker": {
             "colorbar": {
              "outlinewidth": 0,
              "ticks": ""
             }
            },
            "type": "scattergeo"
           }
          ],
          "scattergl": [
           {
            "marker": {
             "colorbar": {
              "outlinewidth": 0,
              "ticks": ""
             }
            },
            "type": "scattergl"
           }
          ],
          "scattermapbox": [
           {
            "marker": {
             "colorbar": {
              "outlinewidth": 0,
              "ticks": ""
             }
            },
            "type": "scattermapbox"
           }
          ],
          "scatterpolar": [
           {
            "marker": {
             "colorbar": {
              "outlinewidth": 0,
              "ticks": ""
             }
            },
            "type": "scatterpolar"
           }
          ],
          "scatterpolargl": [
           {
            "marker": {
             "colorbar": {
              "outlinewidth": 0,
              "ticks": ""
             }
            },
            "type": "scatterpolargl"
           }
          ],
          "scatterternary": [
           {
            "marker": {
             "colorbar": {
              "outlinewidth": 0,
              "ticks": ""
             }
            },
            "type": "scatterternary"
           }
          ],
          "surface": [
           {
            "colorbar": {
             "outlinewidth": 0,
             "ticks": ""
            },
            "colorscale": [
             [
              0,
              "#0d0887"
             ],
             [
              0.1111111111111111,
              "#46039f"
             ],
             [
              0.2222222222222222,
              "#7201a8"
             ],
             [
              0.3333333333333333,
              "#9c179e"
             ],
             [
              0.4444444444444444,
              "#bd3786"
             ],
             [
              0.5555555555555556,
              "#d8576b"
             ],
             [
              0.6666666666666666,
              "#ed7953"
             ],
             [
              0.7777777777777778,
              "#fb9f3a"
             ],
             [
              0.8888888888888888,
              "#fdca26"
             ],
             [
              1,
              "#f0f921"
             ]
            ],
            "type": "surface"
           }
          ],
          "table": [
           {
            "cells": {
             "fill": {
              "color": "#EBF0F8"
             },
             "line": {
              "color": "white"
             }
            },
            "header": {
             "fill": {
              "color": "#C8D4E3"
             },
             "line": {
              "color": "white"
             }
            },
            "type": "table"
           }
          ]
         },
         "layout": {
          "annotationdefaults": {
           "arrowcolor": "#2a3f5f",
           "arrowhead": 0,
           "arrowwidth": 1
          },
          "autotypenumbers": "strict",
          "coloraxis": {
           "colorbar": {
            "outlinewidth": 0,
            "ticks": ""
           }
          },
          "colorscale": {
           "diverging": [
            [
             0,
             "#8e0152"
            ],
            [
             0.1,
             "#c51b7d"
            ],
            [
             0.2,
             "#de77ae"
            ],
            [
             0.3,
             "#f1b6da"
            ],
            [
             0.4,
             "#fde0ef"
            ],
            [
             0.5,
             "#f7f7f7"
            ],
            [
             0.6,
             "#e6f5d0"
            ],
            [
             0.7,
             "#b8e186"
            ],
            [
             0.8,
             "#7fbc41"
            ],
            [
             0.9,
             "#4d9221"
            ],
            [
             1,
             "#276419"
            ]
           ],
           "sequential": [
            [
             0,
             "#0d0887"
            ],
            [
             0.1111111111111111,
             "#46039f"
            ],
            [
             0.2222222222222222,
             "#7201a8"
            ],
            [
             0.3333333333333333,
             "#9c179e"
            ],
            [
             0.4444444444444444,
             "#bd3786"
            ],
            [
             0.5555555555555556,
             "#d8576b"
            ],
            [
             0.6666666666666666,
             "#ed7953"
            ],
            [
             0.7777777777777778,
             "#fb9f3a"
            ],
            [
             0.8888888888888888,
             "#fdca26"
            ],
            [
             1,
             "#f0f921"
            ]
           ],
           "sequentialminus": [
            [
             0,
             "#0d0887"
            ],
            [
             0.1111111111111111,
             "#46039f"
            ],
            [
             0.2222222222222222,
             "#7201a8"
            ],
            [
             0.3333333333333333,
             "#9c179e"
            ],
            [
             0.4444444444444444,
             "#bd3786"
            ],
            [
             0.5555555555555556,
             "#d8576b"
            ],
            [
             0.6666666666666666,
             "#ed7953"
            ],
            [
             0.7777777777777778,
             "#fb9f3a"
            ],
            [
             0.8888888888888888,
             "#fdca26"
            ],
            [
             1,
             "#f0f921"
            ]
           ]
          },
          "colorway": [
           "#636efa",
           "#EF553B",
           "#00cc96",
           "#ab63fa",
           "#FFA15A",
           "#19d3f3",
           "#FF6692",
           "#B6E880",
           "#FF97FF",
           "#FECB52"
          ],
          "font": {
           "color": "#2a3f5f"
          },
          "geo": {
           "bgcolor": "white",
           "lakecolor": "white",
           "landcolor": "#E5ECF6",
           "showlakes": true,
           "showland": true,
           "subunitcolor": "white"
          },
          "hoverlabel": {
           "align": "left"
          },
          "hovermode": "closest",
          "mapbox": {
           "style": "light"
          },
          "paper_bgcolor": "white",
          "plot_bgcolor": "#E5ECF6",
          "polar": {
           "angularaxis": {
            "gridcolor": "white",
            "linecolor": "white",
            "ticks": ""
           },
           "bgcolor": "#E5ECF6",
           "radialaxis": {
            "gridcolor": "white",
            "linecolor": "white",
            "ticks": ""
           }
          },
          "scene": {
           "xaxis": {
            "backgroundcolor": "#E5ECF6",
            "gridcolor": "white",
            "gridwidth": 2,
            "linecolor": "white",
            "showbackground": true,
            "ticks": "",
            "zerolinecolor": "white"
           },
           "yaxis": {
            "backgroundcolor": "#E5ECF6",
            "gridcolor": "white",
            "gridwidth": 2,
            "linecolor": "white",
            "showbackground": true,
            "ticks": "",
            "zerolinecolor": "white"
           },
           "zaxis": {
            "backgroundcolor": "#E5ECF6",
            "gridcolor": "white",
            "gridwidth": 2,
            "linecolor": "white",
            "showbackground": true,
            "ticks": "",
            "zerolinecolor": "white"
           }
          },
          "shapedefaults": {
           "line": {
            "color": "#2a3f5f"
           }
          },
          "ternary": {
           "aaxis": {
            "gridcolor": "white",
            "linecolor": "white",
            "ticks": ""
           },
           "baxis": {
            "gridcolor": "white",
            "linecolor": "white",
            "ticks": ""
           },
           "bgcolor": "#E5ECF6",
           "caxis": {
            "gridcolor": "white",
            "linecolor": "white",
            "ticks": ""
           }
          },
          "title": {
           "x": 0.05
          },
          "xaxis": {
           "automargin": true,
           "gridcolor": "white",
           "linecolor": "white",
           "ticks": "",
           "title": {
            "standoff": 15
           },
           "zerolinecolor": "white",
           "zerolinewidth": 2
          },
          "yaxis": {
           "automargin": true,
           "gridcolor": "white",
           "linecolor": "white",
           "ticks": "",
           "title": {
            "standoff": 15
           },
           "zerolinecolor": "white",
           "zerolinewidth": 2
          }
         }
        },
        "title": {
         "font": {
          "size": 24
         },
         "text": "<b>Xu hướng nghe nhạc của nước Mỹ và các quốc gia khác theo các thứ trong tuần trong 8 tuần gần nhất</b>"
        },
        "xaxis": {
         "title": {
          "font": {
           "size": 18
          },
          "text": "<b>Các ngày trong tuần</b>"
         },
         "type": "category"
        },
        "yaxis": {
         "fixedrange": false,
         "range": [
          0,
          1.2
         ],
         "title": {
          "font": {
           "size": 18
          },
          "text": "<b>Lượng streams được chuẩn hóa</b>"
         }
        }
       }
      }
     },
     "metadata": {},
     "output_type": "display_data"
    }
   ],
   "source": [
    "import plotly.graph_objects as go\n",
    "# Tạo figure sử dụng Scatter plot\n",
    "fig = go.Figure()\n",
    "\n",
    "# Trực quan dữ liệu ban đầu\n",
    "fig.add_trace(go.Scatter(\n",
    "    x=normalized_merged_grouped_by_date_df['DayOfWeek'],\n",
    "    y=normalized_merged_grouped_by_date_df['Streams'],\n",
    "    mode='markers',\n",
    "    name=\"Other countries's stream\"\n",
    "))\n",
    "\n",
    "fig.add_trace(go.Scatter(\n",
    "    x=normalized_merged_grouped_by_date_df['DayOfWeek'],\n",
    "    y=normalized_merged_grouped_by_date_df['US_Streams'],\n",
    "    mode='markers',\n",
    "    name='US Streams'\n",
    "))\n",
    "\n",
    "# Thiết lập layout ban đầu\n",
    "fig.update_layout(\n",
    "    title={\n",
    "        'text': '<b>Xu hướng nghe nhạc của nước Mỹ và các quốc gia khác theo các thứ trong tuần trong 8 tuần gần nhất</b>',\n",
    "        'font': {'size': 24}\n",
    "    },\n",
    "    xaxis_title={\n",
    "        'text': '<b>Các ngày trong tuần</b>',\n",
    "        'font': {'size': 18}\n",
    "    },\n",
    "    yaxis_title={\n",
    "        'text': '<b>Lượng streams được chuẩn hóa</b>',\n",
    "        'font': {'size': 18}\n",
    "    },\n",
    "    showlegend=True,\n",
    "    yaxis=dict(range=[0, 1.2])\n",
    ")\n",
    "\n",
    "# Thiết lập chức năng zoom\n",
    "fig.update_xaxes(type=\"category\")\n",
    "fig.update_yaxes(fixedrange=False)\n",
    "\n",
    "# Hiển thị biểu đồ\n",
    "fig.show()"
   ]
  },
  {
   "attachments": {},
   "cell_type": "markdown",
   "metadata": {},
   "source": [
    "# Phân tích kết quả từ biểu đồ:\n",
    "- Các ngày thứ 2, 3 4, 5, 7 có phạm vi phân bổ của đa số lượng streams ( không xét riêng Mỹ hay các quốc gia khác ) gần giống nhau.\n",
    "- Ở nước Mỹ và các quốc gia khác: Đa số lượng streams vào thứ 6 sẽ tốt hơn so với các ngày còn lại.\n",
    "- Ở các quốc gia khác sự phân bổ đa số lượng streams vào ngày thứ 2, thứ 3, chủ nhật là khá thấp. Trong khi đó ở Mỹ sự phân bổ này rơi vào chủ nhật."
   ]
  },
  {
   "attachments": {},
   "cell_type": "markdown",
   "metadata": {},
   "source": [
    "# <span style=\"color: orange;\">**Kết luận**</span>\n",
    "- Sau khi cùng phân tích các biểu đồ, ta thấy được nếu nhắm vào thị trường Mỹ, thứ 6 và rơi vào những ngày giữa sau của tháng sẽ là thời điểm tốt lượt streams tăng cao.\n",
    "- Ở các quốc gia khác và nước Mỹ có xu hướng lượt streams theo thời gian cũng phần lớn tương đồng nhau.\n",
    "- Đối với nước Mỹ, những ngày vào thứ 2 và chủ nhật lượt streams đa số thấp và thứ 6 cao. Điều này có thể đến từ một số yếu tố, chẳng hạn như sinh hoạt ( thứ 2 ngày đầu tiên đi làm trong tuần, chủ nhật: đi chơi, thứ 6 ngày cuối của tuần đi làm )."
   ]
  },
  {
   "attachments": {},
   "cell_type": "markdown",
   "metadata": {},
   "source": [
    "# **Sử dụng Neural Networks để đưa ra dự đoán**"
   ]
  },
  {
   "attachments": {},
   "cell_type": "markdown",
   "metadata": {},
   "source": [
    "##       Mô hình: mạng học sâu GRU"
   ]
  },
  {
   "cell_type": "code",
   "execution_count": 41,
   "metadata": {},
   "outputs": [],
   "source": [
    "import tensorflow as tf\n",
    "from sklearn.preprocessing import MinMaxScaler\n",
    "from tensorflow.keras.models import Sequential\n",
    "from tensorflow.keras.layers import GRU, Dense\n",
    "from sklearn.metrics import accuracy_score"
   ]
  },
  {
   "cell_type": "code",
   "execution_count": 28,
   "metadata": {},
   "outputs": [],
   "source": [
    "data = df[['Date', 'Streams']]"
   ]
  },
  {
   "cell_type": "code",
   "execution_count": 29,
   "metadata": {},
   "outputs": [
    {
     "data": {
      "text/html": [
       "<div>\n",
       "<style scoped>\n",
       "    .dataframe tbody tr th:only-of-type {\n",
       "        vertical-align: middle;\n",
       "    }\n",
       "\n",
       "    .dataframe tbody tr th {\n",
       "        vertical-align: top;\n",
       "    }\n",
       "\n",
       "    .dataframe thead th {\n",
       "        text-align: right;\n",
       "    }\n",
       "</style>\n",
       "<table border=\"1\" class=\"dataframe\">\n",
       "  <thead>\n",
       "    <tr style=\"text-align: right;\">\n",
       "      <th></th>\n",
       "      <th>Date</th>\n",
       "      <th>Streams</th>\n",
       "    </tr>\n",
       "  </thead>\n",
       "  <tbody>\n",
       "    <tr>\n",
       "      <th>0</th>\n",
       "      <td>2017-01-01</td>\n",
       "      <td>19272</td>\n",
       "    </tr>\n",
       "    <tr>\n",
       "      <th>1</th>\n",
       "      <td>2017-01-01</td>\n",
       "      <td>19270</td>\n",
       "    </tr>\n",
       "    <tr>\n",
       "      <th>2</th>\n",
       "      <td>2017-01-01</td>\n",
       "      <td>15761</td>\n",
       "    </tr>\n",
       "    <tr>\n",
       "      <th>3</th>\n",
       "      <td>2017-01-01</td>\n",
       "      <td>14954</td>\n",
       "    </tr>\n",
       "    <tr>\n",
       "      <th>4</th>\n",
       "      <td>2017-01-01</td>\n",
       "      <td>14269</td>\n",
       "    </tr>\n",
       "    <tr>\n",
       "      <th>...</th>\n",
       "      <td>...</td>\n",
       "      <td>...</td>\n",
       "    </tr>\n",
       "    <tr>\n",
       "      <th>3441192</th>\n",
       "      <td>2018-01-09</td>\n",
       "      <td>2126</td>\n",
       "    </tr>\n",
       "    <tr>\n",
       "      <th>3441193</th>\n",
       "      <td>2018-01-09</td>\n",
       "      <td>2117</td>\n",
       "    </tr>\n",
       "    <tr>\n",
       "      <th>3441194</th>\n",
       "      <td>2018-01-09</td>\n",
       "      <td>2112</td>\n",
       "    </tr>\n",
       "    <tr>\n",
       "      <th>3441195</th>\n",
       "      <td>2018-01-09</td>\n",
       "      <td>2102</td>\n",
       "    </tr>\n",
       "    <tr>\n",
       "      <th>3441196</th>\n",
       "      <td>2018-01-09</td>\n",
       "      <td>2088</td>\n",
       "    </tr>\n",
       "  </tbody>\n",
       "</table>\n",
       "<p>3441197 rows × 2 columns</p>\n",
       "</div>"
      ],
      "text/plain": [
       "              Date  Streams\n",
       "0       2017-01-01    19272\n",
       "1       2017-01-01    19270\n",
       "2       2017-01-01    15761\n",
       "3       2017-01-01    14954\n",
       "4       2017-01-01    14269\n",
       "...            ...      ...\n",
       "3441192 2018-01-09     2126\n",
       "3441193 2018-01-09     2117\n",
       "3441194 2018-01-09     2112\n",
       "3441195 2018-01-09     2102\n",
       "3441196 2018-01-09     2088\n",
       "\n",
       "[3441197 rows x 2 columns]"
      ]
     },
     "execution_count": 29,
     "metadata": {},
     "output_type": "execute_result"
    }
   ],
   "source": [
    "data"
   ]
  },
  {
   "cell_type": "code",
   "execution_count": 30,
   "metadata": {},
   "outputs": [
    {
     "name": "stdout",
     "output_type": "stream",
     "text": [
      "86029/86029 [==============================] - 538s 6ms/step - loss: 3.6859e-05 - val_loss: 0.0018\n"
     ]
    }
   ],
   "source": [
    "# Chia tập train và tập test\n",
    "train_size = int(len(data) * 0.8)\n",
    "train_data = data[:train_size]\n",
    "test_data = data[train_size:]\n",
    "\n",
    "scaler = MinMaxScaler()\n",
    "train_scaled = scaler.fit_transform(train_data['Streams'].values.reshape(-1, 1))\n",
    "test_scaled = scaler.transform(test_data['Streams'].values.reshape(-1, 1))\n",
    "\n",
    "def create_dataset(X, y, time_steps=1):\n",
    "    Xs, ys = [], []\n",
    "    for i in range(len(X) - time_steps):\n",
    "        v = X[i:(i + time_steps)]\n",
    "        Xs.append(v)\n",
    "        ys.append(y[i + time_steps])\n",
    "    return np.array(Xs), np.array(ys)\n",
    "\n",
    "time_steps = 30  \n",
    "\n",
    "X_train, y_train = create_dataset(train_scaled, train_scaled, time_steps)\n",
    "X_test, y_test = create_dataset(test_scaled, test_scaled, time_steps)\n",
    "\n",
    "model = Sequential()\n",
    "model.add(GRU(units=32, input_shape=(X_train.shape[1], X_train.shape[2])))\n",
    "model.add(Dense(1))\n",
    "model.compile(optimizer='adam', loss='mse')\n",
    "\n",
    "history = model.fit(X_train, y_train, epochs=1, batch_size=32, validation_data=(X_test, y_test), shuffle=False)"
   ]
  },
  {
   "cell_type": "code",
   "execution_count": 47,
   "metadata": {},
   "outputs": [
    {
     "name": "stdout",
     "output_type": "stream",
     "text": [
      "1/1 [==============================] - 0s 18ms/step\n",
      "Dự đoán lượng streams vào ngày tiếp theo: 1335\n"
     ]
    }
   ],
   "source": [
    "# Dự đoán lượng streams vào ngày tiếp theo\n",
    "last_time_steps = train_data['Streams'].values[-time_steps:]\n",
    "last_scaled = scaler.transform(last_time_steps.reshape(-1, 1))\n",
    "last_batch = last_scaled.reshape(1, time_steps, 1)\n",
    "\n",
    "prediction = model.predict(last_batch)\n",
    "predicted_streams = scaler.inverse_transform(prediction)\n",
    "\n",
    "print(\"Dự đoán lượng streams vào ngày tiếp theo:\", int(predicted_streams[0][0]))"
   ]
  }
 ],
 "metadata": {
  "kernelspec": {
   "display_name": "Python 3",
   "language": "python",
   "name": "python3"
  },
  "language_info": {
   "codemirror_mode": {
    "name": "ipython",
    "version": 3
   },
   "file_extension": ".py",
   "mimetype": "text/x-python",
   "name": "python",
   "nbconvert_exporter": "python",
   "pygments_lexer": "ipython3",
   "version": "3.11.0"
  },
  "orig_nbformat": 4
 },
 "nbformat": 4,
 "nbformat_minor": 2
}
